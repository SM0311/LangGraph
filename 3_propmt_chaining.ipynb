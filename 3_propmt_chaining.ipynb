{
 "cells": [
  {
   "cell_type": "code",
   "execution_count": 2,
   "id": "eb22d225",
   "metadata": {},
   "outputs": [],
   "source": [
    "from langgraph.graph import StateGraph, START, END\n",
    "from langchain_openai import ChatOpenAI\n",
    "from typing import TypedDict\n",
    "from dotenv import load_dotenv"
   ]
  },
  {
   "cell_type": "code",
   "execution_count": 3,
   "id": "035de21f",
   "metadata": {},
   "outputs": [
    {
     "data": {
      "text/plain": [
       "True"
      ]
     },
     "execution_count": 3,
     "metadata": {},
     "output_type": "execute_result"
    }
   ],
   "source": [
    "load_dotenv()"
   ]
  },
  {
   "cell_type": "code",
   "execution_count": 4,
   "id": "192231ec",
   "metadata": {},
   "outputs": [],
   "source": [
    "model=ChatOpenAI()"
   ]
  },
  {
   "cell_type": "code",
   "execution_count": 39,
   "id": "60f356a7",
   "metadata": {},
   "outputs": [],
   "source": [
    "class BlogState(TypedDict):\n",
    "\n",
    "    title:str\n",
    "    outline:str\n",
    "    content:str\n",
    "    score:int\n"
   ]
  },
  {
   "cell_type": "code",
   "execution_count": 18,
   "id": "064fee5e",
   "metadata": {},
   "outputs": [],
   "source": [
    "def create_outline(state:BlogState)->BlogState:\n",
    "\n",
    "    # fetch title\n",
    "    title=state['title']\n",
    "\n",
    "    #call llm gen outline\n",
    "    prompt=f\"Generate a detailed outline for a blog on the topic - {title}\"\n",
    "    outline=model.invoke(prompt).content\n",
    "\n",
    "    # update state\n",
    "    state['outline']=outline\n",
    "\n",
    "    return state"
   ]
  },
  {
   "cell_type": "code",
   "execution_count": 19,
   "id": "2cfb206f",
   "metadata": {},
   "outputs": [],
   "source": [
    "def create_blog(state:BlogState)->BlogState:\n",
    "\n",
    "    title=state['title']\n",
    "    outline=state['outline']\n",
    "\n",
    "    prompt=f\"Write a detailed blog on the title - {title} using the following outline \\n {outline}\"\n",
    "\n",
    "    content=model.invoke(prompt).content\n",
    "\n",
    "    state['content']=content\n",
    "\n",
    "    return state\n"
   ]
  },
  {
   "cell_type": "code",
   "execution_count": 58,
   "id": "28652f91",
   "metadata": {},
   "outputs": [],
   "source": [
    "def evaluate(state:BlogState)->BlogState:\n",
    "\n",
    "    title=state['title']\n",
    "    outline=state['outline']\n",
    "    content=state['content']\n",
    "\n",
    "    prompt=f\"Evaluate the content - {content} using the following outline \\n {outline} in numeric between 0-100 and return only number\"\n",
    "\n",
    "    result=model.invoke(prompt).content\n",
    "\n",
    "    state['score']=result\n",
    "\n",
    "    return state\n"
   ]
  },
  {
   "cell_type": "code",
   "execution_count": 59,
   "id": "e52fcd3a",
   "metadata": {},
   "outputs": [
    {
     "data": {
      "image/png": "[encoded data removed]",
      "text/plain": [
       "<langgraph.graph.state.CompiledStateGraph object at 0x0000027E58033610>"
      ]
     },
     "execution_count": 59,
     "metadata": {},
     "output_type": "execute_result"
    }
   ],
   "source": [
    "graph=StateGraph(BlogState)\n",
    "\n",
    "# nodes\n",
    "graph.add_node('create_outline',create_outline)\n",
    "graph.add_node('create_blog',create_blog)\n",
    "graph.add_node('evaluate',evaluate)\n",
    "\n",
    "# edges\n",
    "graph.add_edge(START,'create_outline')\n",
    "graph.add_edge('create_outline','create_blog')\n",
    "graph.add_edge('create_blog','evaluate')\n",
    "graph.add_edge('evaluate',END)\n",
    "\n",
    "graph.compile()"
   ]
  },
  {
   "cell_type": "code",
   "execution_count": 60,
   "id": "905a631f",
   "metadata": {},
   "outputs": [],
   "source": [
    "workflow=graph.compile()"
   ]
  },
  {
   "cell_type": "code",
   "execution_count": 61,
   "id": "e9fbcf41",
   "metadata": {},
   "outputs": [
    {
     "name": "stdout",
     "output_type": "stream",
     "text": [
      "I. Introduction\n",
      "\n",
      "A. Artificial Intelligence (AI) refers to the simulation of human intelligence processes by machines, primarily computer systems. This includes learning, reasoning, problem-solving, perception, and language understanding. \n",
      "\n",
      "B. Currently, AI is being used in various sectors in India such as healthcare, finance, retail, agriculture, and more. \n",
      "\n",
      "C. The rise of AI in India is transforming industries and impacting the economy in significant ways. This blog will explore the historical context, current landscape, challenges, opportunities, impact, future outlook, and conclusion of AI in India.\n",
      "\n",
      "II. Historical Context\n",
      "\n",
      "A. Globally, the development of AI can be traced back to the 1950s and has seen significant advancements over the years.\n",
      "\n",
      "B. In India, the introduction of AI began in the 1980s and has since grown steadily.\n",
      "\n",
      "C. Major milestones in the rise of AI in India include the establishment of research institutions like the Indian Council of Scientific and Industrial Research (CSIR) and the Indian National Association for Software and Service Companies (NASSCOM).\n",
      "\n",
      "III. Current Landscape of AI in India\n",
      "\n",
      "A. Industries leading the adoption of AI in India include healthcare, finance, retail, and agriculture. \n",
      "\n",
      "B. The government has introduced initiatives and policies to promote AI adoption in the country.\n",
      "\n",
      "C. Major players in the AI industry in India include multinational corporations and homegrown startups.\n",
      "\n",
      "IV. Challenges and Opportunities\n",
      "\n",
      "A. Challenges in the adoption of AI in India include skill gap, data privacy concerns, and ethical considerations.\n",
      "\n",
      "B. Opportunities for growth and innovation exist in the AI sector, with potential for job creation and economic development.\n",
      "\n",
      "V. Impact of AI on the Indian Economy\n",
      "\n",
      "A. The impact of AI on the Indian economy includes both job displacement and job creation, increased productivity and efficiency, and potential contributions to GDP growth.\n",
      "\n",
      "VI. Future Outlook\n",
      "\n",
      "A. Predictions for the future of AI in India suggest continued growth and development in various sectors.\n",
      "\n",
      "B. Potential areas of growth and development in the AI sector include automation, machine learning, and robotics.\n",
      "\n",
      "C. Recommendations for policymakers and businesses include investing in AI education and skills training, establishing regulatory frameworks, and fostering innovation in the AI industry.\n",
      "\n",
      "VII. Conclusion\n",
      "\n",
      "A. The rise of AI in India is reshaping industries, impacting the economy, and creating opportunities for growth and development.\n",
      "\n",
      "B. It is essential for policymakers, businesses, and individuals to stay informed and engaged in the conversation surrounding AI to harness its full potential.\n",
      "\n",
      "C. A call to action for readers to actively participate in the evolution of AI in India and contribute to its sustainable growth and development.\n"
     ]
    }
   ],
   "source": [
    "intial_state={'title':'Rise of AI in India'}\n",
    "final_state=workflow.invoke(intial_state)\n",
    "print(final_state['content'])"
   ]
  },
  {
   "cell_type": "code",
   "execution_count": 50,
   "id": "16d11d02",
   "metadata": {},
   "outputs": [
    {
     "data": {
      "text/plain": [
       "'I. Introduction\\n    A. Brief overview of artificial intelligence (AI)\\n    B. Introduction to the rise of AI in India\\n    C. Importance and impact of AI in various sectors in India\\n\\nII. Historical Perspective of AI in India\\n    A. Overview of the evolution of AI in India\\n    B. Key milestones and developments in the field of AI in India\\n    C. Major contributors and institutions advancing AI research in India\\n\\nIII. Current Scenario of AI in India\\n    A. Overview of the current state of AI adoption in India\\n    B. Key industries and sectors leveraging AI technology in India\\n    C. Success stories and case studies of AI implementation in India\\n\\nIV. Challenges and Opportunities in the AI Sector in India\\n    A. Key challenges faced by the AI industry in India\\n    B. Opportunities for growth and expansion in the AI sector in India\\n    C. Government initiatives and policies supporting AI development in India\\n\\nV. Future Outlook of AI in India\\n    A. Predictions and trends shaping the future of AI in India\\n    B. Potential impact of AI on the Indian economy and job market\\n    C. Emerging technologies and innovations driving the growth of AI in India\\n\\nVI. Conclusion\\n    A. Recap of key points discussed in the blog\\n    B. Final thoughts on the rise of AI in India\\n    C. Call to action for readers to stay informed and engaged with the AI industry in India.'"
      ]
     },
     "execution_count": 50,
     "metadata": {},
     "output_type": "execute_result"
    }
   ],
   "source": [
    "final_state['outline']"
   ]
  },
  {
   "cell_type": "code",
   "execution_count": 51,
   "id": "c89dbf82",
   "metadata": {},
   "outputs": [
    {
     "data": {
      "text/plain": [
       "'Rise of AI in India'"
      ]
     },
     "execution_count": 51,
     "metadata": {},
     "output_type": "execute_result"
    }
   ],
   "source": [
    "final_state['title']"
   ]
  },
  {
   "cell_type": "code",
   "execution_count": 62,
   "id": "f106e218",
   "metadata": {},
   "outputs": [
    {
     "name": "stdout",
     "output_type": "stream",
     "text": [
      "90\n"
     ]
    }
   ],
   "source": [
    "number=final_state['score']\n",
    "print(int(number))"
   ]
  },
  {
   "cell_type": "code",
   "execution_count": null,
   "id": "df211b81",
   "metadata": {},
   "outputs": [],
   "source": []
  },
  {
   "cell_type": "code",
   "execution_count": null,
   "id": "6e37c930",
   "metadata": {},
   "outputs": [],
   "source": []
  }
 ],
 "metadata": {
  "kernelspec": {
   "display_name": "myenv",
   "language": "python",
   "name": "python3"
  },
  "language_info": {
   "codemirror_mode": {
    "name": "ipython",
    "version": 3
   },
   "file_extension": ".py",
   "mimetype": "text/x-python",
   "name": "python",
   "nbconvert_exporter": "python",
   "pygments_lexer": "ipython3",
   "version": "3.13.5"
  }
 },
 "nbformat": 4,
 "nbformat_minor": 5
}
