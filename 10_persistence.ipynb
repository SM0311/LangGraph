{
 "cells": [
  {
   "cell_type": "code",
   "execution_count": null,
   "id": "15594c0e",
   "metadata": {},
   "outputs": [],
   "source": [
    "# Step 1: Import libraries and set up environment\n",
    "# Step 2: Define workflow state and nodes\n",
    "# Step 3: Build and compile the workflow graph\n",
    "# Step 4: Run workflow in different threads (sessions)\n",
    "# Step 5: Demonstrate persistence by saving and restoring checkpoints\n",
    "# Step 6: Show time travel by updating state at a checkpoint and invoking from that point\n",
    "# Step 7: Inspect state history for debugging and auditing\n",
    "\n",
    "from langgraph.graph import StateGraph, START, END\n",
    "from typing import TypedDict\n",
    "from langchain_openai import ChatOpenAI\n",
    "from dotenv import load_dotenv\n",
    "from langgraph.checkpoint.memory import InMemorySaver\n",
    "\n",
    "load_dotenv()\n",
    "\n",
    "llm = ChatOpenAI()\n",
    "\n",
    "class JokeState(TypedDict):\n",
    "\n",
    "    topic:str\n",
    "    joke:str\n",
    "    explanation:str\n",
    "\n",
    "def generate_joke(state:JokeState):\n",
    "\n",
    "    prompt=f\"generate a joke on the topic {state['topic']}\"\n",
    "    response=llm.invoke(prompt).content\n",
    "\n",
    "    return {'joke':response}\n",
    "\n",
    "def generate_explanation(state:JokeState):\n",
    "\n",
    "    prompt=f\"Write an explanation for the joke - {state['joke']}\"\n",
    "    response=llm.invoke(prompt).content\n",
    "\n",
    "    return {'explanation':response}\n",
    "\n",
    "graph = StateGraph(JokeState)\n",
    "\n",
    "#nodes\n",
    "graph.add_node('generate_joke',generate_joke)\n",
    "graph.add_node('generate_explanation',generate_explanation)\n",
    "\n",
    "#edges\n",
    "graph.add_edge(START,'generate_joke')\n",
    "graph.add_edge('generate_joke','generate_explanation')\n",
    "graph.add_edge('generate_explanation',END)\n",
    "\n",
    "checkpointer = InMemorySaver()\n",
    "\n",
    "graph.compile(checkpointer=checkpointer)\n",
    "\n",
    "workflow=graph.compile(checkpointer=checkpointer)\n",
    "\n",
    "config1 = {'configurable':{'thread_id':\"1\"}}\n",
    "workflow.invoke({'topic':'pizza'},config=config1)\n",
    "\n",
    "workflow.get_state(config1)\n",
    "\n",
    "list(workflow.get_state_history(config1))\n",
    "\n",
    "config2 = {'configurable':{'thread_id':\"2\"}}\n",
    "workflow.invoke({'topic':'pasta'},config=config2)\n",
    "\n",
    "\n",
    "{\n",
    "    \"cells\": [\n",
    "        {\n",
    "            \"cell_type\": \"code\",\n",
    "            \"id\": \"#VSC-703a88f7\",\n",
    "            \"metadata\": {\n",
    "                \"language\": \"python\"\n",
    "            },\n",
    "            \"source\": [\n",
    "                \"from langgraph.graph import StateGraph, START, END\",\n",
    "                \"from typing import TypedDict\",\n",
    "                \"from langchain_openai import ChatOpenAI\",\n",
    "                \"from dotenv import load_dotenv\",\n",
    "                \"from langgraph.checkpoint.memory import InMemorySaver\"\n",
    "            ]\n",
    "        },\n",
    "        {\n",
    "            \"cell_type\": \"code\",\n",
    "            \"id\": \"#VSC-0258e002\",\n",
    "            \"metadata\": {\n",
    "                \"language\": \"python\"\n",
    "            },\n",
    "            \"source\": [\n",
    "                \"load_dotenv()\",\n",
    "                \"\",\n",
    "                \"llm = ChatOpenAI()\"\n",
    "            ]\n",
    "        },\n",
    "        {\n",
    "            \"cell_type\": \"code\",\n",
    "            \"id\": \"#VSC-e5f8a181\",\n",
    "            \"metadata\": {\n",
    "                \"language\": \"python\"\n",
    "            },\n",
    "            \"source\": [\n",
    "                \"class JokeState(TypedDict):\",\n",
    "                \"\",\n",
    "                \"    topic:str\",\n",
    "                \"    joke:str\",\n",
    "                \"    explanation:str\"\n",
    "            ]\n",
    "        },\n",
    "        {\n",
    "            \"cell_type\": \"code\",\n",
    "            \"id\": \"#VSC-4b035ed8\",\n",
    "            \"metadata\": {\n",
    "                \"language\": \"python\"\n",
    "            },\n",
    "            \"source\": [\n",
    "                \"def generate_joke(state:JokeState):\",\n",
    "                \"\",\n",
    "                \"    prompt=f\\\"generate a joke on the topic {state['topic']}\\\"\",\n",
    "                \"    response=llm.invoke(prompt).content\",\n",
    "                \"\",\n",
    "                \"    return {'joke':response}\",\n",
    "                \"\",\n",
    "                \"\",\n",
    "                \"def generate_explanation(state:JokeState):\",\n",
    "                \"\",\n",
    "                \"    prompt=f\\\"Write an explanation for the joke - {state['joke']}\\\"\",\n",
    "                \"    response=llm.invoke(prompt).content\",\n",
    "                \"\",\n",
    "                \"    return {'explanation':response}\"\n",
    "            ]\n",
    "        },\n",
    "        {\n",
    "            \"cell_type\": \"code\",\n",
    "            \"id\": \"#VSC-7ea0dd2e\",\n",
    "            \"metadata\": {\n",
    "                \"language\": \"python\"\n",
    "            },\n",
    "            \"source\": [\n",
    "                \"graph = StateGraph(JokeState)\",\n",
    "                \"\",\n",
    "                \"#nodes\",\n",
    "                \"graph.add_node('generate_joke',generate_joke)\",\n",
    "                \"graph.add_node('generate_explanation',generate_explanation)\",\n",
    "                \"\",\n",
    "                \"#edges\",\n",
    "                \"graph.add_edge(START,'generate_joke')\",\n",
    "                \"graph.add_edge('generate_joke','generate_explanation')\",\n",
    "                \"graph.add_edge('generate_explanation',END)\",\n",
    "                \"\",\n",
    "                \"checkpointer = InMemorySaver()\",\n",
    "                \"\",\n",
    "                \"graph.compile(checkpointer=checkpointer)\",\n",
    "                \"\"\n",
    "            ]\n",
    "        },\n",
    "        {\n",
    "            \"cell_type\": \"code\",\n",
    "            \"id\": \"#VSC-e885c809\",\n",
    "            \"metadata\": {\n",
    "                \"language\": \"python\"\n",
    "            },\n",
    "            \"source\": [\n",
    "                \"workflow=graph.compile(checkpointer=checkpointer)\"\n",
    "            ]\n",
    "        },\n",
    "        {\n",
    "            \"cell_type\": \"code\",\n",
    "            \"id\": \"#VSC-e6e78120\",\n",
    "            \"metadata\": {\n",
    "                \"language\": \"python\"\n",
    "            },\n",
    "            \"source\": [\n",
    "                \"config1 = {'configurable':{'thread_id':\\\"1\\\"}}\",\n",
    "                \"workflow.invoke({'topic':'pizza'},config=config1)\"\n",
    "            ]\n",
    "        },\n",
    "        {\n",
    "            \"cell_type\": \"code\",\n",
    "            \"id\": \"#VSC-4d4eecb0\",\n",
    "            \"metadata\": {\n",
    "                \"language\": \"python\"\n",
    "            },\n",
    "            \"source\": [\n",
    "                \"workflow.get_state(config1)\"\n",
    "            ]\n",
    "        },\n",
    "        {\n",
    "            \"cell_type\": \"code\",\n",
    "            \"id\": \"#VSC-7b4debe5\",\n",
    "            \"metadata\": {\n",
    "                \"language\": \"python\"\n",
    "            },\n",
    "            \"source\": [\n",
    "                \"list(workflow.get_state_history(config1))\"\n",
    "            ]\n",
    "        },\n",
    "        {\n",
    "            \"cell_type\": \"code\",\n",
    "            \"id\": \"#VSC-8e7fd8e3\",\n",
    "            \"metadata\": {\n",
    "                \"language\": \"python\"\n",
    "            },\n",
    "            \"source\": [\n",
    "                \"config2 = {'configurable':{'thread_id':\\\"2\\\"}}\",\n",
    "                \"workflow.invoke({'topic':'pasta'},config=config2)\"\n",
    "            ]\n",
    "        },\n",
    "        {\n",
    "            \"cell_type\": \"code\",\n",
    "            \"id\": \"#VSC-abd040ab\",\n",
    "            \"metadata\": {\n",
    "                \"language\": \"python\"\n",
    "            },\n",
    "            \"source\": [\n",
    "                \"\"\n",
    "            ]\n",
    "        }\n",
    "    ]\n",
    "}"
   ]
  },
  {
   "cell_type": "code",
   "execution_count": 2,
   "id": "76308e95",
   "metadata": {},
   "outputs": [],
   "source": [
    "from langgraph.graph import StateGraph, START, END\n",
    "from typing import TypedDict\n",
    "from langchain_openai import ChatOpenAI\n",
    "from dotenv import load_dotenv\n",
    "from langgraph.checkpoint.memory import InMemorySaver"
   ]
  },
  {
   "cell_type": "code",
   "execution_count": 4,
   "id": "13a8a8c8",
   "metadata": {},
   "outputs": [],
   "source": [
    "load_dotenv()\n",
    "\n",
    "llm = ChatOpenAI()"
   ]
  },
  {
   "cell_type": "code",
   "execution_count": 5,
   "id": "63db3571",
   "metadata": {},
   "outputs": [],
   "source": [
    "class JokeState(TypedDict):\n",
    "\n",
    "    topic:str\n",
    "    joke:str\n",
    "    explanation:str"
   ]
  },
  {
   "cell_type": "code",
   "execution_count": 8,
   "id": "1c46ba39",
   "metadata": {},
   "outputs": [],
   "source": [
    "def generate_joke(state:JokeState):\n",
    "\n",
    "    prompt=f\"generate a joke on the topic {state['topic']}\"\n",
    "    response=llm.invoke(prompt).content\n",
    "\n",
    "    return {'joke':response}\n",
    "\n",
    "\n",
    "def generate_explanation(state:JokeState):\n",
    "\n",
    "    prompt=f\"Write an explanation for the joke - {state['joke']}\"\n",
    "    response=llm.invoke(prompt).content\n",
    "\n",
    "    return {'explanation':response}"
   ]
  },
  {
   "cell_type": "code",
   "execution_count": 9,
   "id": "8168e6c5",
   "metadata": {},
   "outputs": [
    {
     "data": {
      "image/png": "[encoded data removed]",
      "text/plain": [
       "<langgraph.graph.state.CompiledStateGraph object at 0x000001F15CA74590>"
      ]
     },
     "execution_count": 9,
     "metadata": {},
     "output_type": "execute_result"
    }
   ],
   "source": [
    "graph = StateGraph(JokeState)\n",
    "\n",
    "#nodes\n",
    "graph.add_node('generate_joke',generate_joke)\n",
    "graph.add_node('generate_explanation',generate_explanation)\n",
    "\n",
    "#edges\n",
    "graph.add_edge(START,'generate_joke')\n",
    "graph.add_edge('generate_joke','generate_explanation')\n",
    "graph.add_edge('generate_explanation',END)\n",
    "\n",
    "checkpointer = InMemorySaver()\n",
    "\n",
    "graph.compile(checkpointer=checkpointer)\n"
   ]
  },
  {
   "cell_type": "code",
   "execution_count": 10,
   "id": "062a7609",
   "metadata": {},
   "outputs": [],
   "source": [
    "workflow=graph.compile(checkpointer=checkpointer)"
   ]
  },
  {
   "cell_type": "code",
   "execution_count": 14,
   "id": "d7da335b",
   "metadata": {},
   "outputs": [
    {
     "data": {
      "text/plain": [
       "{'topic': 'pizza',\n",
       " 'joke': \"Why did the pizza go to the therapist? Because it had too many toppings and couldn't stop feeling saucy!\",\n",
       " 'explanation': 'This joke plays on the double meaning of the word \"toppings.\" In the context of pizza, toppings refer to the ingredients placed on top of the pizza dough before baking. But in a psychological context, \"toppings\" can refer to emotional baggage or issues that someone is dealing with. In this joke, the pizza goes to a therapist because it has too many toppings (both in terms of ingredients and emotional baggage) and can\\'t stop feeling \"saucy,\" which can mean both having a lot of sauce on it and acting sassy or flirtatious.'}"
      ]
     },
     "execution_count": 14,
     "metadata": {},
     "output_type": "execute_result"
    }
   ],
   "source": [
    "config1 = {'configurable':{'thread_id':\"1\"}}\n",
    "workflow.invoke({'topic':'pizza'},config=config1)"
   ]
  },
  {
   "cell_type": "code",
   "execution_count": 15,
   "id": "6bcc7a9d",
   "metadata": {},
   "outputs": [
    {
     "data": {
      "text/plain": [
       "StateSnapshot(values={'topic': 'pizza', 'joke': \"Why did the pizza go to the therapist? Because it had too many toppings and couldn't stop feeling saucy!\", 'explanation': 'This joke plays on the double meaning of the word \"toppings.\" In the context of pizza, toppings refer to the ingredients placed on top of the pizza dough before baking. But in a psychological context, \"toppings\" can refer to emotional baggage or issues that someone is dealing with. In this joke, the pizza goes to a therapist because it has too many toppings (both in terms of ingredients and emotional baggage) and can\\'t stop feeling \"saucy,\" which can mean both having a lot of sauce on it and acting sassy or flirtatious.'}, next=(), config={'configurable': {'thread_id': '1', 'checkpoint_ns': '', 'checkpoint_id': '1f08f001-4ec5-6e3b-800e-210a45970a55'}}, metadata={'source': 'loop', 'step': 14, 'parents': {}}, created_at='2025-09-11T11:11:36.229184+00:00', parent_config={'configurable': {'thread_id': '1', 'checkpoint_ns': '', 'checkpoint_id': '1f08f001-3c50-67d2-800d-da94523c0052'}}, tasks=(), interrupts=())"
      ]
     },
     "execution_count": 15,
     "metadata": {},
     "output_type": "execute_result"
    }
   ],
   "source": [
    "workflow.get_state(config1)"
   ]
  },
  {
   "cell_type": "code",
   "execution_count": 17,
   "id": "086b1e99",
   "metadata": {},
   "outputs": [
    {
     "data": {
      "text/plain": [
       "[StateSnapshot(values={'topic': 'pizza', 'joke': \"Why did the pizza go to the therapist? Because it had too many toppings and couldn't stop feeling saucy!\", 'explanation': 'This joke plays on the double meaning of the word \"toppings.\" In the context of pizza, toppings refer to the ingredients placed on top of the pizza dough before baking. But in a psychological context, \"toppings\" can refer to emotional baggage or issues that someone is dealing with. In this joke, the pizza goes to a therapist because it has too many toppings (both in terms of ingredients and emotional baggage) and can\\'t stop feeling \"saucy,\" which can mean both having a lot of sauce on it and acting sassy or flirtatious.'}, next=(), config={'configurable': {'thread_id': '1', 'checkpoint_ns': '', 'checkpoint_id': '1f08f001-4ec5-6e3b-800e-210a45970a55'}}, metadata={'source': 'loop', 'step': 14, 'parents': {}}, created_at='2025-09-11T11:11:36.229184+00:00', parent_config={'configurable': {'thread_id': '1', 'checkpoint_ns': '', 'checkpoint_id': '1f08f001-3c50-67d2-800d-da94523c0052'}}, tasks=(), interrupts=()),\n",
       " StateSnapshot(values={'topic': 'pizza', 'joke': \"Why did the pizza go to the therapist? Because it had too many toppings and couldn't stop feeling saucy!\", 'explanation': 'This joke plays on the phrase \"ride the tide\" which typically means to go with the flow or to deal with a situation as it unfolds. In this case, the joke twists the phrase to imply that the friends wanted to physically ride the tide at the beach, showcasing their strong bond and friendship. It\\'s a playful and light-hearted way to emphasize the closeness of the two friends.'}, next=('generate_explanation',), config={'configurable': {'thread_id': '1', 'checkpoint_ns': '', 'checkpoint_id': '1f08f001-3c50-67d2-800d-da94523c0052'}}, metadata={'source': 'loop', 'step': 13, 'parents': {}}, created_at='2025-09-11T11:11:34.293679+00:00', parent_config={'configurable': {'thread_id': '1', 'checkpoint_ns': '', 'checkpoint_id': '1f08f001-2f50-62a3-800c-80fc5dfe72b1'}}, tasks=(PregelTask(id='624cf029-5c8d-94aa-9884-ad40312d925f', name='generate_explanation', path=('__pregel_pull', 'generate_explanation'), error=None, interrupts=(), state=None, result={'explanation': 'This joke plays on the double meaning of the word \"toppings.\" In the context of pizza, toppings refer to the ingredients placed on top of the pizza dough before baking. But in a psychological context, \"toppings\" can refer to emotional baggage or issues that someone is dealing with. In this joke, the pizza goes to a therapist because it has too many toppings (both in terms of ingredients and emotional baggage) and can\\'t stop feeling \"saucy,\" which can mean both having a lot of sauce on it and acting sassy or flirtatious.'}),), interrupts=()),\n",
       " StateSnapshot(values={'topic': 'pizza', 'joke': 'Why did the best friends go to the beach? Because they wanted to ride the tide together!', 'explanation': 'This joke plays on the phrase \"ride the tide\" which typically means to go with the flow or to deal with a situation as it unfolds. In this case, the joke twists the phrase to imply that the friends wanted to physically ride the tide at the beach, showcasing their strong bond and friendship. It\\'s a playful and light-hearted way to emphasize the closeness of the two friends.'}, next=('generate_joke',), config={'configurable': {'thread_id': '1', 'checkpoint_ns': '', 'checkpoint_id': '1f08f001-2f50-62a3-800c-80fc5dfe72b1'}}, metadata={'source': 'loop', 'step': 12, 'parents': {}}, created_at='2025-09-11T11:11:32.930398+00:00', parent_config={'configurable': {'thread_id': '1', 'checkpoint_ns': '', 'checkpoint_id': '1f08f001-2f4c-683f-800b-ac73cde3ccd4'}}, tasks=(PregelTask(id='bd132c25-be3e-59dc-3d1d-90e048a63fd5', name='generate_joke', path=('__pregel_pull', 'generate_joke'), error=None, interrupts=(), state=None, result={'joke': \"Why did the pizza go to the therapist? Because it had too many toppings and couldn't stop feeling saucy!\"}),), interrupts=()),\n",
       " StateSnapshot(values={'topic': 'friends', 'joke': 'Why did the best friends go to the beach? Because they wanted to ride the tide together!', 'explanation': 'This joke plays on the phrase \"ride the tide\" which typically means to go with the flow or to deal with a situation as it unfolds. In this case, the joke twists the phrase to imply that the friends wanted to physically ride the tide at the beach, showcasing their strong bond and friendship. It\\'s a playful and light-hearted way to emphasize the closeness of the two friends.'}, next=('__start__',), config={'configurable': {'thread_id': '1', 'checkpoint_ns': '', 'checkpoint_id': '1f08f001-2f4c-683f-800b-ac73cde3ccd4'}}, metadata={'source': 'input', 'step': 11, 'parents': {}}, created_at='2025-09-11T11:11:32.928909+00:00', parent_config={'configurable': {'thread_id': '1', 'checkpoint_ns': '', 'checkpoint_id': '1f08f000-0c6c-661f-800a-d731f80389d2'}}, tasks=(PregelTask(id='d9319767-711d-2110-776d-e41ce671fe77', name='__start__', path=('__pregel_pull', '__start__'), error=None, interrupts=(), state=None, result={'topic': 'pizza'}),), interrupts=()),\n",
       " StateSnapshot(values={'topic': 'friends', 'joke': 'Why did the best friends go to the beach? Because they wanted to ride the tide together!', 'explanation': 'This joke plays on the phrase \"ride the tide\" which typically means to go with the flow or to deal with a situation as it unfolds. In this case, the joke twists the phrase to imply that the friends wanted to physically ride the tide at the beach, showcasing their strong bond and friendship. It\\'s a playful and light-hearted way to emphasize the closeness of the two friends.'}, next=(), config={'configurable': {'thread_id': '1', 'checkpoint_ns': '', 'checkpoint_id': '1f08f000-0c6c-661f-800a-d731f80389d2'}}, metadata={'source': 'loop', 'step': 10, 'parents': {}}, created_at='2025-09-11T11:11:02.428402+00:00', parent_config={'configurable': {'thread_id': '1', 'checkpoint_ns': '', 'checkpoint_id': '1f08efff-fae2-6735-8009-b58f579c4ca9'}}, tasks=(), interrupts=()),\n",
       " StateSnapshot(values={'topic': 'friends', 'joke': 'Why did the best friends go to the beach? Because they wanted to ride the tide together!', 'explanation': 'This joke plays on the double meaning of the phrase \"climbing the corporate ladder,\" which refers both to advancing in one\\'s career within a company and to literally climbing a ladder. By bringing a ladder to work, the HR manager is humorously implying that they plan to help employees improve their performance reviews by helping them \"climb the corporate ladder\" both figuratively and literally. It\\'s a lighthearted way to poke fun at the often stressful process of performance evaluations in the workplace.'}, next=('generate_explanation',), config={'configurable': {'thread_id': '1', 'checkpoint_ns': '', 'checkpoint_id': '1f08efff-fae2-6735-8009-b58f579c4ca9'}}, metadata={'source': 'loop', 'step': 9, 'parents': {}}, created_at='2025-09-11T11:11:00.589317+00:00', parent_config={'configurable': {'thread_id': '1', 'checkpoint_ns': '', 'checkpoint_id': '1f08efff-ed4a-691b-8008-a6ac7ef51662'}}, tasks=(PregelTask(id='5b56ddd6-9b3a-70b6-12b5-0682110b39a4', name='generate_explanation', path=('__pregel_pull', 'generate_explanation'), error=None, interrupts=(), state=None, result={'explanation': 'This joke plays on the phrase \"ride the tide\" which typically means to go with the flow or to deal with a situation as it unfolds. In this case, the joke twists the phrase to imply that the friends wanted to physically ride the tide at the beach, showcasing their strong bond and friendship. It\\'s a playful and light-hearted way to emphasize the closeness of the two friends.'}),), interrupts=()),\n",
       " StateSnapshot(values={'topic': 'friends', 'joke': 'Why did the HR manager bring a ladder to work? \\nTo help with employee performance reviews - they want to climb the corporate ladder!', 'explanation': 'This joke plays on the double meaning of the phrase \"climbing the corporate ladder,\" which refers both to advancing in one\\'s career within a company and to literally climbing a ladder. By bringing a ladder to work, the HR manager is humorously implying that they plan to help employees improve their performance reviews by helping them \"climb the corporate ladder\" both figuratively and literally. It\\'s a lighthearted way to poke fun at the often stressful process of performance evaluations in the workplace.'}, next=('generate_joke',), config={'configurable': {'thread_id': '1', 'checkpoint_ns': '', 'checkpoint_id': '1f08efff-ed4a-691b-8008-a6ac7ef51662'}}, metadata={'source': 'loop', 'step': 8, 'parents': {}}, created_at='2025-09-11T11:10:59.163971+00:00', parent_config={'configurable': {'thread_id': '1', 'checkpoint_ns': '', 'checkpoint_id': '1f08efff-ed48-6414-8007-7b6db349d8a4'}}, tasks=(PregelTask(id='accb3d11-81d8-6082-34fe-0e8412b0a7fd', name='generate_joke', path=('__pregel_pull', 'generate_joke'), error=None, interrupts=(), state=None, result={'joke': 'Why did the best friends go to the beach? Because they wanted to ride the tide together!'}),), interrupts=()),\n",
       " StateSnapshot(values={'topic': 'hr', 'joke': 'Why did the HR manager bring a ladder to work? \\nTo help with employee performance reviews - they want to climb the corporate ladder!', 'explanation': 'This joke plays on the double meaning of the phrase \"climbing the corporate ladder,\" which refers both to advancing in one\\'s career within a company and to literally climbing a ladder. By bringing a ladder to work, the HR manager is humorously implying that they plan to help employees improve their performance reviews by helping them \"climb the corporate ladder\" both figuratively and literally. It\\'s a lighthearted way to poke fun at the often stressful process of performance evaluations in the workplace.'}, next=('__start__',), config={'configurable': {'thread_id': '1', 'checkpoint_ns': '', 'checkpoint_id': '1f08efff-ed48-6414-8007-7b6db349d8a4'}}, metadata={'source': 'input', 'step': 7, 'parents': {}}, created_at='2025-09-11T11:10:59.163018+00:00', parent_config={'configurable': {'thread_id': '1', 'checkpoint_ns': '', 'checkpoint_id': '1f08effe-5276-604b-8006-d677d98b8570'}}, tasks=(PregelTask(id='ee6f3c48-1e02-4ff5-f694-fe738feda793', name='__start__', path=('__pregel_pull', '__start__'), error=None, interrupts=(), state=None, result={'topic': 'friends'}),), interrupts=()),\n",
       " StateSnapshot(values={'topic': 'hr', 'joke': 'Why did the HR manager bring a ladder to work? \\nTo help with employee performance reviews - they want to climb the corporate ladder!', 'explanation': 'This joke plays on the double meaning of the phrase \"climbing the corporate ladder,\" which refers both to advancing in one\\'s career within a company and to literally climbing a ladder. By bringing a ladder to work, the HR manager is humorously implying that they plan to help employees improve their performance reviews by helping them \"climb the corporate ladder\" both figuratively and literally. It\\'s a lighthearted way to poke fun at the often stressful process of performance evaluations in the workplace.'}, next=(), config={'configurable': {'thread_id': '1', 'checkpoint_ns': '', 'checkpoint_id': '1f08effe-5276-604b-8006-d677d98b8570'}}, metadata={'source': 'loop', 'step': 6, 'parents': {}}, created_at='2025-09-11T11:10:16.085275+00:00', parent_config={'configurable': {'thread_id': '1', 'checkpoint_ns': '', 'checkpoint_id': '1f08effe-45c9-63a4-8005-e741fed2dcdb'}}, tasks=(), interrupts=()),\n",
       " StateSnapshot(values={'topic': 'hr', 'joke': 'Why did the HR manager bring a ladder to work? \\nTo help with employee performance reviews - they want to climb the corporate ladder!', 'explanation': 'This joke plays on the idea of a pizza being circular in shape, and going to a therapist to talk about feeling like it is just going in circles. In reality, the joke is a play on words as pizzas are circular and therapists are often associated with helping individuals break out of negative thought patterns or behaviors. So, the idea of a pizza seeking therapy because it feels like it is going in circles is humorous because of the literal interpretation of the phrase.'}, next=('generate_explanation',), config={'configurable': {'thread_id': '1', 'checkpoint_ns': '', 'checkpoint_id': '1f08effe-45c9-63a4-8005-e741fed2dcdb'}}, metadata={'source': 'loop', 'step': 5, 'parents': {}}, created_at='2025-09-11T11:10:14.756195+00:00', parent_config={'configurable': {'thread_id': '1', 'checkpoint_ns': '', 'checkpoint_id': '1f08effe-3517-648a-8004-42851ae31900'}}, tasks=(PregelTask(id='d714a4a8-d3df-2be0-08d0-96972c9555e3', name='generate_explanation', path=('__pregel_pull', 'generate_explanation'), error=None, interrupts=(), state=None, result={'explanation': 'This joke plays on the double meaning of the phrase \"climbing the corporate ladder,\" which refers both to advancing in one\\'s career within a company and to literally climbing a ladder. By bringing a ladder to work, the HR manager is humorously implying that they plan to help employees improve their performance reviews by helping them \"climb the corporate ladder\" both figuratively and literally. It\\'s a lighthearted way to poke fun at the often stressful process of performance evaluations in the workplace.'}),), interrupts=()),\n",
       " StateSnapshot(values={'topic': 'hr', 'joke': 'Why did the pizza go to the therapist?\\nBecause it felt like it was just going in circles!', 'explanation': 'This joke plays on the idea of a pizza being circular in shape, and going to a therapist to talk about feeling like it is just going in circles. In reality, the joke is a play on words as pizzas are circular and therapists are often associated with helping individuals break out of negative thought patterns or behaviors. So, the idea of a pizza seeking therapy because it feels like it is going in circles is humorous because of the literal interpretation of the phrase.'}, next=('generate_joke',), config={'configurable': {'thread_id': '1', 'checkpoint_ns': '', 'checkpoint_id': '1f08effe-3517-648a-8004-42851ae31900'}}, metadata={'source': 'loop', 'step': 4, 'parents': {}}, created_at='2025-09-11T11:10:13.005600+00:00', parent_config={'configurable': {'thread_id': '1', 'checkpoint_ns': '', 'checkpoint_id': '1f08effe-3511-6e18-8003-71dd54d1b3ef'}}, tasks=(PregelTask(id='16a8ce95-5723-e077-168f-1f275d818081', name='generate_joke', path=('__pregel_pull', 'generate_joke'), error=None, interrupts=(), state=None, result={'joke': 'Why did the HR manager bring a ladder to work? \\nTo help with employee performance reviews - they want to climb the corporate ladder!'}),), interrupts=()),\n",
       " StateSnapshot(values={'topic': 'pizza', 'joke': 'Why did the pizza go to the therapist?\\nBecause it felt like it was just going in circles!', 'explanation': 'This joke plays on the idea of a pizza being circular in shape, and going to a therapist to talk about feeling like it is just going in circles. In reality, the joke is a play on words as pizzas are circular and therapists are often associated with helping individuals break out of negative thought patterns or behaviors. So, the idea of a pizza seeking therapy because it feels like it is going in circles is humorous because of the literal interpretation of the phrase.'}, next=('__start__',), config={'configurable': {'thread_id': '1', 'checkpoint_ns': '', 'checkpoint_id': '1f08effe-3511-6e18-8003-71dd54d1b3ef'}}, metadata={'source': 'input', 'step': 3, 'parents': {}}, created_at='2025-09-11T11:10:13.003391+00:00', parent_config={'configurable': {'thread_id': '1', 'checkpoint_ns': '', 'checkpoint_id': '1f08effd-018d-6df3-8002-79dacccf8f0c'}}, tasks=(PregelTask(id='4607e98a-a255-da50-78a1-e30e0815058b', name='__start__', path=('__pregel_pull', '__start__'), error=None, interrupts=(), state=None, result={'topic': 'hr'}),), interrupts=()),\n",
       " StateSnapshot(values={'topic': 'pizza', 'joke': 'Why did the pizza go to the therapist?\\nBecause it felt like it was just going in circles!', 'explanation': 'This joke plays on the idea of a pizza being circular in shape, and going to a therapist to talk about feeling like it is just going in circles. In reality, the joke is a play on words as pizzas are circular and therapists are often associated with helping individuals break out of negative thought patterns or behaviors. So, the idea of a pizza seeking therapy because it feels like it is going in circles is humorous because of the literal interpretation of the phrase.'}, next=(), config={'configurable': {'thread_id': '1', 'checkpoint_ns': '', 'checkpoint_id': '1f08effd-018d-6df3-8002-79dacccf8f0c'}}, metadata={'source': 'loop', 'step': 2, 'parents': {}}, created_at='2025-09-11T11:09:40.758041+00:00', parent_config={'configurable': {'thread_id': '1', 'checkpoint_ns': '', 'checkpoint_id': '1f08effc-ed1e-62e1-8001-eafb3e67ec27'}}, tasks=(), interrupts=()),\n",
       " StateSnapshot(values={'topic': 'pizza', 'joke': 'Why did the pizza go to the therapist?\\nBecause it felt like it was just going in circles!'}, next=('generate_explanation',), config={'configurable': {'thread_id': '1', 'checkpoint_ns': '', 'checkpoint_id': '1f08effc-ed1e-62e1-8001-eafb3e67ec27'}}, metadata={'source': 'loop', 'step': 1, 'parents': {}}, created_at='2025-09-11T11:09:38.615151+00:00', parent_config={'configurable': {'thread_id': '1', 'checkpoint_ns': '', 'checkpoint_id': '1f08effc-d412-6829-8000-b5fd3f4c1b81'}}, tasks=(PregelTask(id='618ec001-1fee-20f1-f9e2-39898dc85416', name='generate_explanation', path=('__pregel_pull', 'generate_explanation'), error=None, interrupts=(), state=None, result={'explanation': 'This joke plays on the idea of a pizza being circular in shape, and going to a therapist to talk about feeling like it is just going in circles. In reality, the joke is a play on words as pizzas are circular and therapists are often associated with helping individuals break out of negative thought patterns or behaviors. So, the idea of a pizza seeking therapy because it feels like it is going in circles is humorous because of the literal interpretation of the phrase.'}),), interrupts=()),\n",
       " StateSnapshot(values={'topic': 'pizza'}, next=('generate_joke',), config={'configurable': {'thread_id': '1', 'checkpoint_ns': '', 'checkpoint_id': '1f08effc-d412-6829-8000-b5fd3f4c1b81'}}, metadata={'source': 'loop', 'step': 0, 'parents': {}}, created_at='2025-09-11T11:09:35.988914+00:00', parent_config={'configurable': {'thread_id': '1', 'checkpoint_ns': '', 'checkpoint_id': '1f08effc-d409-6ce5-bfff-fe94d9bce73b'}}, tasks=(PregelTask(id='98116204-2dc1-dee9-0635-5e5fe4f2d066', name='generate_joke', path=('__pregel_pull', 'generate_joke'), error=None, interrupts=(), state=None, result={'joke': 'Why did the pizza go to the therapist?\\nBecause it felt like it was just going in circles!'}),), interrupts=()),\n",
       " StateSnapshot(values={}, next=('__start__',), config={'configurable': {'thread_id': '1', 'checkpoint_ns': '', 'checkpoint_id': '1f08effc-d409-6ce5-bfff-fe94d9bce73b'}}, metadata={'source': 'input', 'step': -1, 'parents': {}}, created_at='2025-09-11T11:09:35.985367+00:00', parent_config=None, tasks=(PregelTask(id='a88b54bc-9aa4-070d-23f8-d46397645d3e', name='__start__', path=('__pregel_pull', '__start__'), error=None, interrupts=(), state=None, result={'topic': 'pizza'}),), interrupts=())]"
      ]
     },
     "execution_count": 17,
     "metadata": {},
     "output_type": "execute_result"
    }
   ],
   "source": [
    "list(workflow.get_state_history(config1))"
   ]
  },
  {
   "cell_type": "code",
   "execution_count": 19,
   "id": "a39bc669",
   "metadata": {},
   "outputs": [
    {
     "data": {
      "text/plain": [
       "{'topic': 'pasta',\n",
       " 'joke': 'Why did the spaghetti go to the party? Because it was feeling saucy!',\n",
       " 'explanation': 'This joke plays on the double meaning of the word \"saucy.\" In one sense, \"saucy\" can mean bold, cheeky, or impudent. In another sense, it can also refer to the sauce that is commonly paired with pasta dishes like spaghetti. So, the joke is suggesting that the spaghetti went to the party because it was feeling bold or cheeky, but also because it wanted to be paired with a sauce.'}"
      ]
     },
     "execution_count": 19,
     "metadata": {},
     "output_type": "execute_result"
    }
   ],
   "source": [
    "config2 = {'configurable':{'thread_id':\"2\"}}\n",
    "workflow.invoke({'topic':'pasta'},config=config2)"
   ]
  },
  {
   "cell_type": "code",
   "execution_count": null,
   "id": "3c59f986",
   "metadata": {},
   "outputs": [],
   "source": []
  }
 ],
 "metadata": {
  "kernelspec": {
   "display_name": "myenv",
   "language": "python",
   "name": "python3"
  },
  "language_info": {
   "codemirror_mode": {
    "name": "ipython",
    "version": 3
   },
   "file_extension": ".py",
   "mimetype": "text/x-python",
   "name": "python",
   "nbconvert_exporter": "python",
   "pygments_lexer": "ipython3",
   "version": "3.13.5"
  }
 },
 "nbformat": 4,
 "nbformat_minor": 5
}
