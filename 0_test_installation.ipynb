{
 "cells": [
  {
   "cell_type": "code",
   "execution_count": null,
   "id": "1b106fa4",
   "metadata": {},
   "outputs": [],
   "source": [
    "# Step 1: Import required libraries and verify installation\n",
    "from langgraph.graph import StateGraph"
   ]
  },
  {
   "cell_type": "code",
   "execution_count": null,
   "id": "3abbd6f5",
   "metadata": {},
   "outputs": [],
   "source": [
    "# Step 2: Check Python and package versions\n",
    "...existing code..."
   ]
  },
  {
   "cell_type": "code",
   "execution_count": null,
   "id": "565a8188",
   "metadata": {},
   "outputs": [],
   "source": [
    "# Step 3: Run a simple LangGraph workflow to confirm setup\n",
    "...existing code..."
   ]
  },
  {
   "cell_type": "code",
   "execution_count": null,
   "id": "520bcb46",
   "metadata": {},
   "outputs": [],
   "source": [
    "# Step 4: Display results or confirmation\n",
    "...existing code..."
   ]
  }
 ],
 "metadata": {
  "kernelspec": {
   "display_name": "myenv",
   "language": "python",
   "name": "python3"
  },
  "language_info": {
   "codemirror_mode": {
    "name": "ipython",
    "version": 3
   },
   "file_extension": ".py",
   "mimetype": "text/x-python",
   "name": "python",
   "nbconvert_exporter": "python",
   "pygments_lexer": "ipython3",
   "version": "3.13.5"
  }
 },
 "nbformat": 4,
 "nbformat_minor": 5
}
