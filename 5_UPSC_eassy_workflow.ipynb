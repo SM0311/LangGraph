{
 "cells": [
  {
   "cell_type": "code",
   "execution_count": 13,
   "id": "4f1cc3dd",
   "metadata": {},
   "outputs": [],
   "source": [
    "from langgraph.graph import StateGraph, START, END\n",
    "from typing import TypedDict, Annotated, List\n",
    "import operator\n",
    "from langchain_openai import ChatOpenAI\n",
    "from dotenv import load_dotenv\n",
    "from pydantic import BaseModel, Field\n",
    "import operator"
   ]
  },
  {
   "cell_type": "code",
   "execution_count": 3,
   "id": "ed0daa1b",
   "metadata": {},
   "outputs": [
    {
     "data": {
      "text/plain": [
       "True"
      ]
     },
     "execution_count": 3,
     "metadata": {},
     "output_type": "execute_result"
    }
   ],
   "source": [
    "load_dotenv()"
   ]
  },
  {
   "cell_type": "code",
   "execution_count": 4,
   "id": "8ce84b13",
   "metadata": {},
   "outputs": [],
   "source": [
    "model=ChatOpenAI(model='gpt-4o-mini')"
   ]
  },
  {
   "cell_type": "code",
   "execution_count": 5,
   "id": "9603e66a",
   "metadata": {},
   "outputs": [],
   "source": [
    "class EvaluationSchema(BaseModel):\n",
    "\n",
    "    feedback: str = Field(description='Detailed feedback for essay')\n",
    "    score: int = Field(description='Score out of 10',ge=0,le=10)\n",
    "    "
   ]
  },
  {
   "cell_type": "code",
   "execution_count": 8,
   "id": "3c877a40",
   "metadata": {},
   "outputs": [],
   "source": [
    "structured_model=model.with_structured_output(EvaluationSchema)"
   ]
  },
  {
   "cell_type": "code",
   "execution_count": 27,
   "id": "51621725",
   "metadata": {},
   "outputs": [],
   "source": [
    "essay = \"\"\"The Role of Technology in Shaping the Future\n",
    "\n",
    "In the contemporary world, technology has become the cornerstone of human progress, influencing almost every aspect of our lives. From the way we communicate to the way we work, travel, and even think, the digital revolution has redefined the boundaries of possibility. The question is no longer whether technology shapes the future, but how wisely we harness its power.\n",
    "\n",
    "One of the most profound contributions of technology lies in its ability to connect people across geographical and cultural divides. The internet and social media platforms have transformed the globe into a \"digital village,\" where ideas and information travel faster than ever before. This interconnectedness fosters collaboration, innovation, and cultural exchange, making the world more interdependent than at any other point in history.\n",
    "\n",
    "Equally important is the role of technology in healthcare. Breakthroughs in artificial intelligence, biotechnology, and robotics are not only prolonging human life but also enhancing its quality. Diseases once considered fatal are now manageable, and precision medicine promises tailored treatments that meet the unique needs of individuals. Technology, therefore, stands as a beacon of hope in the quest for healthier and more fulfilling lives.\n",
    "\n",
    "However, it would be naïve to view technology as a purely benevolent force. Its misuse has led to cybercrime, data breaches, and ethical dilemmas surrounding privacy. Moreover, automation and artificial intelligence, while enhancing efficiency, also threaten traditional employment structures, leaving millions anxious about their livelihoods. Thus, the challenge before humanity is not the advancement of technology itself, but the wisdom with which we choose to employ it.\n",
    "\n",
    "In conclusion, technology is both a gift and a responsibility. It holds the potential to create unprecedented opportunities, but it also demands thoughtful regulation and ethical application. As we move forward, it is imperative to strike a delicate balance—embracing innovation while safeguarding human values. The future will not be determined by technology alone, but by our collective ability to ensure that it serves humanity rather than dominates it.\"\"\""
   ]
  },
  {
   "cell_type": "code",
   "execution_count": 38,
   "id": "50c56b23",
   "metadata": {},
   "outputs": [],
   "source": [
    "essay2=\"\"\"Technology in the Future\n",
    "\n",
    "Technology is very important in today’s world and it is everywhere. People are using it for many things like phone, internet, computer, and it is always increasing. Technology makes life easy but sometimes also it makes problems.\n",
    "\n",
    "One good thing of technology is that it helps people to talk. Like if someone is far away, you can call them or message them. Social media is also there and people use it every day. This is making life fast and simple.\n",
    "\n",
    "Another important thing is in health. Doctors use machines and computers. There are new medicines and robots in hospitals. This can save people and make them live long.\n",
    "\n",
    "But technology also has bad things. People spend too much time on mobile and internet. It also make people lazy. Many jobs are going because machines can do them now. So people are losing work and it is a big problem for the future.\n",
    "\n",
    "In conclusion, technology is good and bad. We should use it in right way. If we use too much it is bad but if we use it less it is not useful. So it is important to balance.\"\"\""
   ]
  },
  {
   "cell_type": "code",
   "execution_count": 29,
   "id": "ab2f659a",
   "metadata": {},
   "outputs": [
    {
     "data": {
      "text/plain": [
       "EvaluationSchema(feedback='The essay demonstrates a good command of language, with varied vocabulary and sentence structures that enhance clarity and engagement. However, there are some grammatical errors and awkward phrasings that detract from the overall quality. The organization of ideas could be improved, as transitioning between paragraphs feels abrupt at times. Additionally, more concrete examples would strengthen the arguments presented. Overall, the essay has a solid foundation but requires refinement in certain areas to enhance its effectiveness.', score=6)"
      ]
     },
     "execution_count": 29,
     "metadata": {},
     "output_type": "execute_result"
    }
   ],
   "source": [
    "prompt=f\"Evaluate the language quality of the following eassy and provide a feedback and assign the score between 0-10\"\n",
    "structured_model.invoke(prompt)"
   ]
  },
  {
   "cell_type": "code",
   "execution_count": 30,
   "id": "f5d1a544",
   "metadata": {},
   "outputs": [],
   "source": [
    "class UPSCState(TypedDict):\n",
    "\n",
    "    essay:str\n",
    "    language_feedback:str\n",
    "    analysis_feedback:str\n",
    "    clarity_feedback:str\n",
    "    overall_feedback:str\n",
    "    individual_scores:Annotated[list[int],operator.add]\n",
    "    avg_score:float"
   ]
  },
  {
   "cell_type": "code",
   "execution_count": 31,
   "id": "729802b9",
   "metadata": {},
   "outputs": [],
   "source": [
    "def evaluate_language(state:UPSCState):\n",
    "    \n",
    "    prompt=f\"Evaluate the language quality of the following eassy and provide a feedback and assign the score out of 10 \\n {state['essay']}\"\n",
    "    output=structured_model.invoke(prompt)\n",
    "\n",
    "    return {'language_feedback':output.feedback, 'individual_scores' : [output.score]}\n"
   ]
  },
  {
   "cell_type": "code",
   "execution_count": 32,
   "id": "17b72f17",
   "metadata": {},
   "outputs": [],
   "source": [
    "def evaluate_analysis(state:UPSCState):\n",
    "    \n",
    "    prompt=f\"Evaluate the depth of analysis of the following eassy and provide a feedback and assign the score out of 10 \\n {state['essay']}\"\n",
    "    output=structured_model.invoke(prompt)\n",
    "\n",
    "    return {'analysis_feedback':output.feedback, 'individual_scores' : [output.score]}\n"
   ]
  },
  {
   "cell_type": "code",
   "execution_count": 33,
   "id": "15f0089e",
   "metadata": {},
   "outputs": [],
   "source": [
    "def evaluate_thought(state:UPSCState):\n",
    "    \n",
    "    prompt=f\"Evaluate the clarity of thought of the following eassy and provide a feedback and assign the score out of 10 \\n {state['essay']}\"\n",
    "    output=structured_model.invoke(prompt)\n",
    "\n",
    "    return {'clarity_feedback':output.feedback, 'individual_scores' : [output.score]}\n"
   ]
  },
  {
   "cell_type": "code",
   "execution_count": 34,
   "id": "d955698e",
   "metadata": {},
   "outputs": [],
   "source": [
    "def final_evaluation(state:UPSCState):\n",
    "\n",
    "    #summary feedback\n",
    "    \n",
    "    prompt=f\"Based on the following feedbacks create a summarized feedback \\n language feedback - {state['language_feedback']} \\n depth of analysis feedback - {state['analysis_feedback']} \\n clarity of thought feedback - {state['clarity_feedback']}\"\n",
    "    overall_feedback=model.invoke(prompt).content\n",
    "\n",
    "    #avg feedback\n",
    "    avg_score=sum(state['individual_scores'])/len(state['individual_scores'])\n",
    "\n",
    "    return {\"overall_feedback\":overall_feedback,'avg_score':avg_score}"
   ]
  },
  {
   "cell_type": "code",
   "execution_count": 35,
   "id": "df03ec11",
   "metadata": {},
   "outputs": [
    {
     "data": {
      "image/png": "[encoded data removed]",
      "text/plain": [
       "<langgraph.graph.state.CompiledStateGraph object at 0x0000017BEA000CD0>"
      ]
     },
     "execution_count": 35,
     "metadata": {},
     "output_type": "execute_result"
    }
   ],
   "source": [
    "graph=StateGraph(UPSCState)\n",
    "\n",
    "#nodes \n",
    "graph.add_node('evaluate_language',evaluate_language)\n",
    "graph.add_node('evaluate_analysis',evaluate_analysis)\n",
    "graph.add_node('evaluate_thought',evaluate_thought)\n",
    "graph.add_node('final_evaluation',final_evaluation)\n",
    "\n",
    "\n",
    "# edges\n",
    "graph.add_edge(START,'evaluate_language')\n",
    "graph.add_edge(START,'evaluate_analysis')\n",
    "graph.add_edge(START,'evaluate_thought')\n",
    "\n",
    "graph.add_edge('evaluate_language', 'final_evaluation')\n",
    "graph.add_edge('evaluate_analysis','final_evaluation')\n",
    "graph.add_edge('evaluate_thought','final_evaluation')\n",
    "graph.add_edge('final_evaluation',END)\n",
    "\n",
    "\n",
    "graph.compile()"
   ]
  },
  {
   "cell_type": "code",
   "execution_count": 36,
   "id": "c147aee5",
   "metadata": {},
   "outputs": [],
   "source": [
    "workflow=graph.compile()"
   ]
  },
  {
   "cell_type": "code",
   "execution_count": 37,
   "id": "d34201b4",
   "metadata": {},
   "outputs": [
    {
     "data": {
      "text/plain": [
       "{'essay': 'The Role of Technology in Shaping the Future\\n\\nIn the contemporary world, technology has become the cornerstone of human progress, influencing almost every aspect of our lives. From the way we communicate to the way we work, travel, and even think, the digital revolution has redefined the boundaries of possibility. The question is no longer whether technology shapes the future, but how wisely we harness its power.\\n\\nOne of the most profound contributions of technology lies in its ability to connect people across geographical and cultural divides. The internet and social media platforms have transformed the globe into a \"digital village,\" where ideas and information travel faster than ever before. This interconnectedness fosters collaboration, innovation, and cultural exchange, making the world more interdependent than at any other point in history.\\n\\nEqually important is the role of technology in healthcare. Breakthroughs in artificial intelligence, biotechnology, and robotics are not only prolonging human life but also enhancing its quality. Diseases once considered fatal are now manageable, and precision medicine promises tailored treatments that meet the unique needs of individuals. Technology, therefore, stands as a beacon of hope in the quest for healthier and more fulfilling lives.\\n\\nHowever, it would be naïve to view technology as a purely benevolent force. Its misuse has led to cybercrime, data breaches, and ethical dilemmas surrounding privacy. Moreover, automation and artificial intelligence, while enhancing efficiency, also threaten traditional employment structures, leaving millions anxious about their livelihoods. Thus, the challenge before humanity is not the advancement of technology itself, but the wisdom with which we choose to employ it.\\n\\nIn conclusion, technology is both a gift and a responsibility. It holds the potential to create unprecedented opportunities, but it also demands thoughtful regulation and ethical application. As we move forward, it is imperative to strike a delicate balance—embracing innovation while safeguarding human values. The future will not be determined by technology alone, but by our collective ability to ensure that it serves humanity rather than dominates it.',\n",
       " 'language_feedback': 'The essay presents a well-structured argument about the role of technology, highlighting both its positive contributions and potential risks. The introduction effectively sets the tone and context for the discussion. The use of varied vocabulary and complex sentence structures demonstrates a strong command of language. However, the essay could benefit from more concrete examples to enhance the persuasiveness of its points, especially in addressing the negative aspects of technology. Additionally, some sentences feel slightly verbose; tighter phrasing could improve clarity without sacrificing depth. Overall, the essay communicates its message effectively but could be enhanced with more specific examples and slightly more concise language.',\n",
       " 'analysis_feedback': 'The essay presents a well-rounded perspective on the role of technology in shaping the future. It effectively highlights both the positive contributions and the potential downsides of technology. The structure is logical with clear transitions between points, offering a holistic view of the topic. However, the analysis could delve deeper into specific technologies or examples that illustrate the points made. For instance, discussing the impact of specific AI applications or particular social media platforms could enhance the argument. Additionally, exploring potential solutions to the challenges posed by technology could strengthen the conclusion. Overall, while the essay covers essential ideas concisely, more in-depth analysis and specific examples would elevate it further.',\n",
       " 'clarity_feedback': 'The essay provides a comprehensive exploration of the impact of technology on various aspects of human life. The introduction clearly establishes the topic and purpose, allowing the reader to understand the significance of the discussion. Each paragraph presents a distinct but logically connected idea, discussing both the benefits of technology in connection and healthcare, as well as the potential drawbacks, such as ethical concerns and employment issues. The use of phrases like \"digital village\" and metaphors like \"a beacon of hope\" add vividness to the argument, enhancing clarity. The conclusion effectively synthesizes the main points and emphasizes the need for balance in technological advancement.\\n\\nHowever, some areas could be improved for even greater clarity. For instance, expanding on specific examples of technological advancements discussed could strengthen the arguments. Additionally, some transitions between ideas could be smoother to enhance the flow of thought. Overall, the essay maintains a strong clarity of thought, capturing both the optimistic and cautionary aspects of technology\\'s influence on our future.',\n",
       " 'overall_feedback': '**Summarized Feedback:**\\n\\nThe essay effectively presents a well-structured argument on the role of technology, articulating both its positive contributions and potential risks. The introduction sets an appropriate context, and the varied vocabulary and complex sentence structures reflect a strong command of language. However, to enhance persuasiveness, the essay could benefit from more concrete examples, particularly regarding the negative aspects of technology. \\n\\nIn terms of analysis, while the essay provides a balanced overview, it would be strengthened by delving deeper into specific technologies, such as AI applications or social media platforms, and by exploring potential solutions to the challenges posed by technology. \\n\\nClarity is largely maintained throughout the essay, with distinct ideas and effective metaphors that enhance the argument. However, incorporating more specific examples and ensuring smoother transitions between ideas could improve the overall flow and clarity. Overall, while the essay communicates its message effectively, it could be elevated with more specific, in-depth analysis and concise language.',\n",
       " 'individual_scores': [7, 8, 8],\n",
       " 'avg_score': 7.666666666666667}"
      ]
     },
     "execution_count": 37,
     "metadata": {},
     "output_type": "execute_result"
    }
   ],
   "source": [
    "initial_state={\n",
    "    'essay':essay\n",
    "}\n",
    "workflow.invoke(initial_state)"
   ]
  },
  {
   "cell_type": "code",
   "execution_count": 41,
   "id": "fda4ff5d",
   "metadata": {},
   "outputs": [],
   "source": [
    "essay3=\"\"\"In the twenty-first century, technology has transcended its role as a mere tool and emerged as the architect of human progress. It is no exaggeration to claim that technology shapes not only the way we live but also the way we imagine the future. From communication and healthcare to education and governance, technological innovations have redefined possibilities. The challenge, however, is to ensure that this extraordinary force remains an instrument of empowerment rather than a source of division.\n",
    "\n",
    "One of the most transformative impacts of technology lies in communication. The internet has effectively turned the world into what Marshall McLuhan once envisioned as a “global village.” Platforms such as X (formerly Twitter) and WhatsApp have allowed instantaneous connection, enabling information to flow across continents within seconds. For instance, during natural disasters, real-time updates on social media have saved countless lives by facilitating rapid responses. Yet, this very immediacy can also fuel misinformation, highlighting the double-edged nature of digital interconnectedness.\n",
    "\n",
    "Equally significant are the breakthroughs in healthcare. Artificial intelligence is revolutionizing medical diagnostics, with algorithms now capable of detecting diseases like cancer at earlier stages than human doctors. In addition, innovations in biotechnology and robotics are enabling precision surgeries and personalized treatments, offering hope to millions. The COVID-19 pandemic demonstrated how technology, through vaccine development and digital telemedicine platforms, can act as humanity’s lifeline during crises.\n",
    "\n",
    "Nevertheless, technology is not without its perils. Automation and artificial intelligence threaten to displace millions of workers, especially in manufacturing and transport. Similarly, data breaches and cyberattacks expose individuals and nations to unprecedented risks. The rise of addictive digital platforms has also exacerbated mental health challenges, particularly among the youth. These concerns underscore the urgency of adopting ethical frameworks to govern innovation.\n",
    "\n",
    "Looking ahead, the solution lies not in curbing technological growth but in directing it responsibly. Governments must craft regulations that safeguard privacy while encouraging innovation. Educational systems should prioritize digital literacy so that future generations can critically navigate online spaces. Equally, corporations must embrace ethical AI practices that place human welfare above profit. By implementing such measures, society can ensure that technology remains a servant of humanity rather than its master.\n",
    "\n",
    "In conclusion, technology is neither inherently good nor bad; its value depends on the choices we make. When harnessed with foresight and responsibility, it can bridge divides, cure diseases, and uplift societies. When misused or left unchecked, it can widen inequalities and erode trust. The future, therefore, is not dictated by machines or algorithms but by human wisdom in guiding their use. If balanced prudence accompanies innovation, technology will indeed stand as the architect of a brighter tomorrow.\n",
    "\"\"\""
   ]
  },
  {
   "cell_type": "code",
   "execution_count": 42,
   "id": "b8b1a01e",
   "metadata": {},
   "outputs": [
    {
     "data": {
      "text/plain": [
       "{'essay': 'Technology in the Future\\n\\nTechnology is very important in today’s world and it is everywhere. People are using it for many things like phone, internet, computer, and it is always increasing. Technology makes life easy but sometimes also it makes problems.\\n\\nOne good thing of technology is that it helps people to talk. Like if someone is far away, you can call them or message them. Social media is also there and people use it every day. This is making life fast and simple.\\n\\nAnother important thing is in health. Doctors use machines and computers. There are new medicines and robots in hospitals. This can save people and make them live long.\\n\\nBut technology also has bad things. People spend too much time on mobile and internet. It also make people lazy. Many jobs are going because machines can do them now. So people are losing work and it is a big problem for the future.\\n\\nIn conclusion, technology is good and bad. We should use it in right way. If we use too much it is bad but if we use it less it is not useful. So it is important to balance.',\n",
       " 'language_feedback': 'The essay provides a clear perspective on the role of technology in our lives, touching on both its advantages and disadvantages. However, the language quality could be improved in several areas:\\n\\n1. **Grammar and Syntax**: The essay contains multiple grammatical errors, such as \"it also make people lazy\" (should be \\'it also makes\\') and \"it is always increasing\" (could be more clearly stated). Improved sentence structure would enhance readability.\\n2. **Word Choice**: Repeated use of simple and somewhat vague phrases (like \"Many jobs are going because machines can do them now\") could be enriched with more specific vocabulary and varied expressions. \\n3. **Clarity and Focus**: While the essay presents clear points, some ideas could benefit from deeper elaboration. For instance, discussing specific technologies in healthcare could strengthen the argument.\\n4. **Coherence and Flow**: The transitions between ideas could be smoother. Paragraphs feel somewhat disjointed and could use clearer linking phrases to guide the reader through the argument more cohesively.\\n5. **Conclusion**: The conclusion slightly contradicts itself when discussing the usage of technology. Clarifying the stance on the balance required could make it stronger.\\n\\nOverall, the essay demonstrates an understanding of the topic, but it needs refinement in language quality to achieve a higher score.',\n",
       " 'analysis_feedback': \"The essay presents a basic overview of the impact of technology on society, touching on both positive and negative aspects. However, it lacks depth in analysis and specificity. The arguments about the benefits of technology in communication and healthcare are valid but could be supported by specific examples or evidence, which would strengthen the argument. Similarly, while the negatives are mentioned, they're not explored in detail. The structure of the essay is straightforward, but transitions between ideas could be smoother. More developed rhetorical devices or real-life scenarios could help engage the reader further and enhance the overall argument. Furthermore, the conclusion reiterates previous points without adding new insights, which diminishes the overall impact of the essay.\",\n",
       " 'clarity_feedback': 'The essay presents some clear ideas regarding the impact of technology on modern life, but it lacks depth and comprehensive exploration of the themes presented. Some points are repeated, and the arguments could benefit from more structure and examples. The writing is straightforward, but there are grammatical errors and awkward phrasing that detract from the overall clarity. Additionally, the conclusion restates points without offering a resolution or nuanced perspective. More specific examples or statistics could strengthen the arguments significantly.',\n",
       " 'overall_feedback': '### Summarized Feedback\\n\\nThe essay provides a clear perspective on the impact of technology in our lives, addressing both its advantages and disadvantages. However, it requires improvements in several key areas:\\n\\n1. **Language Quality**: The essay features multiple grammatical errors and awkward phrasing, which hinder readability. Enhancing grammar and syntax is essential for clarity.\\n\\n2. **Word Choice**: The language is somewhat simplistic and vague. Using more specific vocabulary and varied expressions would enrich the content.\\n\\n3. **Depth of Analysis**: While the essay outlines the effects of technology on communication and healthcare, it lacks detailed exploration and specific examples. A more thorough analysis of the negative aspects of technology is also needed.\\n\\n4. **Coherence and Flow**: Transitions between ideas are abrupt, and paragraphs do not connect smoothly. Employing clearer linking phrases would improve coherence.\\n\\n5. **Conclusion**: The conclusion restates earlier points without providing new insights or a nuanced perspective on the balance needed in technology usage, which weakens its overall impact.\\n\\nOverall, the essay demonstrates a basic understanding of the topic but requires more depth, improved structure, and refined language to achieve a higher level of effectiveness.',\n",
       " 'individual_scores': [5, 5, 5],\n",
       " 'avg_score': 5.0}"
      ]
     },
     "execution_count": 42,
     "metadata": {},
     "output_type": "execute_result"
    }
   ],
   "source": [
    "initial_state={\n",
    "    'essay':essay2\n",
    "}\n",
    "workflow.invoke(initial_state)"
   ]
  },
  {
   "cell_type": "code",
   "execution_count": 43,
   "id": "7984eadd",
   "metadata": {},
   "outputs": [
    {
     "data": {
      "text/plain": [
       "{'essay': 'In the twenty-first century, technology has transcended its role as a mere tool and emerged as the architect of human progress. It is no exaggeration to claim that technology shapes not only the way we live but also the way we imagine the future. From communication and healthcare to education and governance, technological innovations have redefined possibilities. The challenge, however, is to ensure that this extraordinary force remains an instrument of empowerment rather than a source of division.\\n\\nOne of the most transformative impacts of technology lies in communication. The internet has effectively turned the world into what Marshall McLuhan once envisioned as a “global village.” Platforms such as X (formerly Twitter) and WhatsApp have allowed instantaneous connection, enabling information to flow across continents within seconds. For instance, during natural disasters, real-time updates on social media have saved countless lives by facilitating rapid responses. Yet, this very immediacy can also fuel misinformation, highlighting the double-edged nature of digital interconnectedness.\\n\\nEqually significant are the breakthroughs in healthcare. Artificial intelligence is revolutionizing medical diagnostics, with algorithms now capable of detecting diseases like cancer at earlier stages than human doctors. In addition, innovations in biotechnology and robotics are enabling precision surgeries and personalized treatments, offering hope to millions. The COVID-19 pandemic demonstrated how technology, through vaccine development and digital telemedicine platforms, can act as humanity’s lifeline during crises.\\n\\nNevertheless, technology is not without its perils. Automation and artificial intelligence threaten to displace millions of workers, especially in manufacturing and transport. Similarly, data breaches and cyberattacks expose individuals and nations to unprecedented risks. The rise of addictive digital platforms has also exacerbated mental health challenges, particularly among the youth. These concerns underscore the urgency of adopting ethical frameworks to govern innovation.\\n\\nLooking ahead, the solution lies not in curbing technological growth but in directing it responsibly. Governments must craft regulations that safeguard privacy while encouraging innovation. Educational systems should prioritize digital literacy so that future generations can critically navigate online spaces. Equally, corporations must embrace ethical AI practices that place human welfare above profit. By implementing such measures, society can ensure that technology remains a servant of humanity rather than its master.\\n\\nIn conclusion, technology is neither inherently good nor bad; its value depends on the choices we make. When harnessed with foresight and responsibility, it can bridge divides, cure diseases, and uplift societies. When misused or left unchecked, it can widen inequalities and erode trust. The future, therefore, is not dictated by machines or algorithms but by human wisdom in guiding their use. If balanced prudence accompanies innovation, technology will indeed stand as the architect of a brighter tomorrow.\\n',\n",
       " 'language_feedback': 'The essay presents a well-structured argument on the dual nature of technology in the 21st century, effectively addressing its potential benefits and risks. The introduction sets a strong tone, and the thesis is clear and compelling. Each paragraph builds upon the previous one, providing relevant examples and counterarguments, particularly in discussing communication, healthcare, and ethical concerns. \\n\\nThe language is articulate and sophisticated, showcasing a good command of vocabulary without veering into jargon that would alienate readers. The use of quotes, such as that from Marshall McLuhan, adds depth to the argument. The transitions between sections are smooth, aiding in the overall coherence of the essay. \\n\\nHowever, while the essay is comprehensive, it could benefit from a slightly more thorough analysis of the ethical frameworks proposed for technology governance. Providing specific examples of current regulations or frameworks could strengthen this argument and showcase practical applications. Additionally, addressing potential counterarguments in more detail would enhance the robustness of the discussion.\\n\\nOverall, the writing quality is strong, with effective use of language and persuasive argumentation. Some minor improvements in depth and specificity could elevate the essay further.',\n",
       " 'analysis_feedback': \"The essay presents a well-rounded analysis of the dual nature of technology in the twenty-first century, effectively discussing both its benefits and potential perils. The structured introduction captures the essence of the argument, while the body paragraphs delve into specific domains such as communication and healthcare, providing relevant examples to support each point. The mention of concepts like 'global village' and ethical frameworks adds depth to the discussion. Additionally, the essay concludes with a thought-provoking reflection on human agency in shaping technological development, emphasizing the importance of balance between innovation and ethical responsibility.\\n\\nHowever, the analysis could be enriched by incorporating a more diverse range of perspectives on technology's social implications, such as the digital divide or surveillance issues. Further elaboration on specific case studies or statistics might enhance the argument's persuasive power. While the essay maintains clarity and coherence, engaging more critically with counterarguments or opposing views could further deepen the analysis.\\n\\nOverall, the essay demonstrates solid analytical skills and a nuanced understanding of the subject, but it could benefit from a broader exploration of technology's implications.\",\n",
       " 'clarity_feedback': 'The essay offers a well-structured and coherent argument about the role of technology in modern society. It effectively outlines both the benefits and challenges posed by technological advancements, specifically in communication and healthcare. The use of examples, such as the impact of social media during disasters and AI in healthcare, enhances the clarity of thought. The author successfully communicates the need for a balanced approach to technology, advocating for ethical considerations in its development and use. \\n\\nWhile the essay is generally clear and organized, some areas could benefit from greater elaboration. For instance, the potential downsides of technology could be further explored to provide a more nuanced perspective. Additionally, the conclusion could summarize the key points more succinctly to reinforce the message. \\n\\nOverall, this essay reflects a clear understanding of the topic and articulates ideas effectively, but some minor improvements could enhance clarity and depth.',\n",
       " 'overall_feedback': \"The essay provides a well-structured and articulate exploration of the dual nature of technology in the 21st century, effectively weighing its benefits against potential risks, particularly in areas such as communication and healthcare. The introduction is strong, with a clear and compelling thesis, and the use of relevant examples and quotes enriches the argument. Transitions between sections contribute to the overall coherence.\\n\\nDespite its strengths, the essay could benefit from a deeper analysis of the ethical frameworks governing technology, including specific examples of current regulations. Furthermore, engaging more critically with potential counterarguments and incorporating a wider range of perspectives on technology's social implications, such as the digital divide and surveillance issues, would enhance the analysis. The conclusion could also be more succinct in summarizing key points.\\n\\nOverall, while the essay displays a solid command of language and persuasive argumentation, minor improvements in depth, specificity, and engagement with counterarguments could elevate its quality.\",\n",
       " 'individual_scores': [8, 8, 8],\n",
       " 'avg_score': 8.0}"
      ]
     },
     "execution_count": 43,
     "metadata": {},
     "output_type": "execute_result"
    }
   ],
   "source": [
    "initial_state={\n",
    "    'essay':essay3\n",
    "}\n",
    "workflow.invoke(initial_state)"
   ]
  },
  {
   "cell_type": "code",
   "execution_count": 44,
   "id": "d5cb187d",
   "metadata": {},
   "outputs": [],
   "source": [
    "essay4=\"\"\"In the twenty-first century, technology has transcended its role as a mere tool and emerged as the architect of human progress. It not only shapes the way we live but also redefines how we envision the future. From communication and healthcare to education and governance, technological innovations have expanded the boundaries of possibility. The challenge, however, is ensuring that this extraordinary force remains an instrument of empowerment rather than a source of inequality.\n",
    "\n",
    "One of the most transformative impacts of technology lies in communication. The internet has effectively turned the world into what Marshall McLuhan famously called a “global village.” Platforms such as WhatsApp and X (formerly Twitter) allow instantaneous connection, enabling information to cross continents within seconds. For instance, during natural disasters, real-time updates on social media have saved lives by directing aid and raising awareness. Yet this immediacy also spreads misinformation at an alarming rate, reminding us of the double-edged nature of digital interconnectedness.\n",
    "\n",
    "Equally significant are the breakthroughs in healthcare. Artificial intelligence now detects diseases like cancer at earlier stages than human doctors, while biotechnology and robotics enable precision surgeries and personalized treatments. The World Health Organization’s Global Strategy on Digital Health illustrates how institutions can guide these innovations responsibly, ensuring global access while reducing inequalities. The COVID-19 pandemic further demonstrated technology’s lifesaving power, as rapid vaccine development and telemedicine platforms became lifelines in times of crisis.\n",
    "\n",
    "Beyond healthcare and communication, technology is reshaping education and the environment. Online learning platforms like Coursera and Khan Academy have democratized access to knowledge, allowing students in remote villages to access resources once available only in elite institutions. In environmental sustainability, innovations in renewable energy and smart agriculture are helping combat climate change. At the same time, however, surveillance technologies and facial recognition raise ethical concerns, particularly in authoritarian regimes where they threaten civil liberties.\n",
    "\n",
    "Despite its benefits, technology also has undeniable risks. Automation and artificial intelligence threaten to displace millions of workers, especially in manufacturing and logistics. Some argue that this shift will irreversibly destroy jobs and deepen inequality. Yet history suggests that while technology eliminates certain roles, it also creates new industries—from app development to renewable energy engineering. The challenge lies in preparing workers for this transition through reskilling and education.\n",
    "\n",
    "Looking ahead, the solution is not to slow technological progress but to regulate and direct it responsibly. Governments must craft policies like the European Union’s General Data Protection Regulation (GDPR), which balances innovation with privacy protection. The United States’ AI Bill of Rights is another step toward ethical AI, ensuring that human dignity remains central. Educational systems must prioritize digital literacy, equipping future generations to critically navigate online spaces. Corporations, too, must embrace ethical frameworks that place human welfare above short-term profit.\n",
    "\n",
    "In conclusion, technology is neither inherently good nor bad; its value depends on the choices we make. When harnessed with foresight and responsibility, it can bridge divides, cure diseases, and safeguard the planet. When misused or left unchecked, it can widen inequalities and erode trust. Ultimately, technology will not define humanity’s destiny—our wisdom in guiding it will. If balanced prudence accompanies innovation, technology will indeed stand as the architect of a brighter tomorrow.\"\"\""
   ]
  },
  {
   "cell_type": "code",
   "execution_count": 45,
   "id": "82b1615c",
   "metadata": {},
   "outputs": [
    {
     "data": {
      "text/plain": [
       "{'essay': 'In the twenty-first century, technology has transcended its role as a mere tool and emerged as the architect of human progress. It not only shapes the way we live but also redefines how we envision the future. From communication and healthcare to education and governance, technological innovations have expanded the boundaries of possibility. The challenge, however, is ensuring that this extraordinary force remains an instrument of empowerment rather than a source of inequality.\\n\\nOne of the most transformative impacts of technology lies in communication. The internet has effectively turned the world into what Marshall McLuhan famously called a “global village.” Platforms such as WhatsApp and X (formerly Twitter) allow instantaneous connection, enabling information to cross continents within seconds. For instance, during natural disasters, real-time updates on social media have saved lives by directing aid and raising awareness. Yet this immediacy also spreads misinformation at an alarming rate, reminding us of the double-edged nature of digital interconnectedness.\\n\\nEqually significant are the breakthroughs in healthcare. Artificial intelligence now detects diseases like cancer at earlier stages than human doctors, while biotechnology and robotics enable precision surgeries and personalized treatments. The World Health Organization’s Global Strategy on Digital Health illustrates how institutions can guide these innovations responsibly, ensuring global access while reducing inequalities. The COVID-19 pandemic further demonstrated technology’s lifesaving power, as rapid vaccine development and telemedicine platforms became lifelines in times of crisis.\\n\\nBeyond healthcare and communication, technology is reshaping education and the environment. Online learning platforms like Coursera and Khan Academy have democratized access to knowledge, allowing students in remote villages to access resources once available only in elite institutions. In environmental sustainability, innovations in renewable energy and smart agriculture are helping combat climate change. At the same time, however, surveillance technologies and facial recognition raise ethical concerns, particularly in authoritarian regimes where they threaten civil liberties.\\n\\nDespite its benefits, technology also has undeniable risks. Automation and artificial intelligence threaten to displace millions of workers, especially in manufacturing and logistics. Some argue that this shift will irreversibly destroy jobs and deepen inequality. Yet history suggests that while technology eliminates certain roles, it also creates new industries—from app development to renewable energy engineering. The challenge lies in preparing workers for this transition through reskilling and education.\\n\\nLooking ahead, the solution is not to slow technological progress but to regulate and direct it responsibly. Governments must craft policies like the European Union’s General Data Protection Regulation (GDPR), which balances innovation with privacy protection. The United States’ AI Bill of Rights is another step toward ethical AI, ensuring that human dignity remains central. Educational systems must prioritize digital literacy, equipping future generations to critically navigate online spaces. Corporations, too, must embrace ethical frameworks that place human welfare above short-term profit.\\n\\nIn conclusion, technology is neither inherently good nor bad; its value depends on the choices we make. When harnessed with foresight and responsibility, it can bridge divides, cure diseases, and safeguard the planet. When misused or left unchecked, it can widen inequalities and erode trust. Ultimately, technology will not define humanity’s destiny—our wisdom in guiding it will. If balanced prudence accompanies innovation, technology will indeed stand as the architect of a brighter tomorrow.',\n",
       " 'language_feedback': \"The essay presents a well-structured argument regarding the impact of technology on human progress, effectively exploring both its benefits and challenges. The introduction sets the stage appropriately, while subsequent paragraphs logically develop the central thesis, providing examples from different sectors such as communication, healthcare, and education. The use of citations, like the reference to Marshall McLuhan, adds depth to the points made. However, there are a couple of areas where the essay could improve: 1) **Clarity and Conciseness**: Some sentences could be more concise to enhance readability. For instance, phrases like 'has transcended its role as a mere tool' could be simplified. 2) **Transition Between Ideas**: While the paragraphs are coherent, smoother transitions between them could enhance the flow, especially when shifting from one topic to another. This would help maintain the reader’s engagement throughout the piece. Overall, the language is formal and appropriate for the subject matter, but a few revisions for clarity and flow could strengthen the overall quality.  \\n\\nAdditionally, ensure the consistent use of neutral language, particularly around contentious issues, to maintain objectivity. \",\n",
       " 'analysis_feedback': 'The essay delivers a comprehensive analysis of the transformative power of technology in contemporary society. It adeptly covers various domains, including communication, healthcare, education, and ethical considerations of technological advancement. The use of concrete examples, such as the role of social media during natural disasters and the impact of AI on healthcare, enhances the argument by illustrating both the benefits and challenges posed by rapid technological change. Additionally, the discussion of the balance required through regulation highlights a critical contemporary issue.\\n\\nHowever, while the analysis is rich in insights, it could benefit from a deeper exploration of specific examples, particularly in the areas of environmental impact and the ethical dilemmas posed by surveillance technology. Although the essay mentions these issues, a more nuanced discussion about their implications would strengthen the overall argument.\\n\\nThe structure is logical and flows well, with a clear introduction, body, and conclusion. The conclusion effectively reiterates the principal theme of balancing technological advancements with ethical considerations. The language is articulate and persuasive, although occasionally it could be more concise to enhance clarity. Overall, the essay presents a balanced viewpoint and encourages a thoughtful perspective on technology’s role in society.',\n",
       " 'clarity_feedback': 'The essay displays a clear progression of thought, effectively addressing both the advantages and disadvantages of technology in modern society. The structure is logical, moving from the role of technology in communication to its transformative effects in healthcare, education, and environmental sustainability, before discussing the associated risks. Additionally, the call for responsible governance and ethical considerations is well-articulated, emphasizing the importance of balance between innovation and social responsibility. \\n\\nHowever, some sections could benefit from deeper analysis or examples that provide a more substantial connection to the claims made. For instance, the discussion on job displacement could include statistics or case studies to illustrate the point better. Furthermore, while the essay ends on a hopeful note regarding the future of technology, a more explicit exploration of potential solutions or real-world applications could strengthen the conclusion. Overall, the clarity of thought is commendable, but could be improved with more detailed evidence and insight.',\n",
       " 'overall_feedback': \"**Summary of Feedback**\\n\\nThe essay effectively discusses the impact of technology on human progress, presenting a well-structured argument that addresses both its benefits and challenges across various sectors, including communication, healthcare, and education. The introduction is strong, and the use of citations, such as the reference to Marshall McLuhan, enriches the analysis. However, there are areas for improvement:\\n\\n1. **Clarity and Conciseness**: Some sentences are overly complex and could be simplified to enhance readability. For example, phrases could be more concise.\\n   \\n2. **Transitions**: While paragraphs are coherent, smoother transitions between topics would improve the overall flow and maintain reader engagement.\\n\\n3. **Depth of Analysis**: The essay provides a comprehensive exploration of technology's transformative effects but could benefit from a deeper dive into specific examples, particularly regarding environmental impacts and the ethical dilemmas surrounding surveillance technology. Enhanced discussion in these areas would strengthen the argument.\\n\\n4. **Evidence and Insight**: Certain sections, like job displacement, could use more supporting evidence, such as statistics or case studies, to reinforce claims. Additionally, the conclusion, while optimistic, would benefit from an exploration of potential solutions or real-world applications related to technology's future.\\n\\nOverall, the essay is articulate and presents a balanced viewpoint, but revisions for clarity, flow, and deeper analysis would significantly enhance its quality. Consistent use of neutral language is also advised, especially around contentious issues, to uphold objectivity.\",\n",
       " 'individual_scores': [8, 8, 8],\n",
       " 'avg_score': 8.0}"
      ]
     },
     "execution_count": 45,
     "metadata": {},
     "output_type": "execute_result"
    }
   ],
   "source": [
    "initial_state={\n",
    "    'essay':essay4\n",
    "}\n",
    "workflow.invoke(initial_state)"
   ]
  },
  {
   "cell_type": "code",
   "execution_count": 46,
   "id": "5612f985",
   "metadata": {},
   "outputs": [],
   "source": [
    "essay5=\"\"\"Technology is no longer just a tool; it has become the driving force of modern progress. It shapes how we live, work, and imagine the future. From communication and healthcare to education and governance, innovation expands possibilities. The central challenge is not whether technology will grow, but whether society can guide it responsibly.\n",
    "\n",
    "One of the most visible impacts of technology is communication. The internet has turned the world into what Marshall McLuhan described as a “global village.” Platforms like WhatsApp and X (formerly Twitter) enable instant information exchange. For example, during the 2023 Turkey–Syria earthquake, real-time updates on social media helped direct rescue operations and mobilize aid within hours. Yet, the same speed that spreads life-saving information also fuels misinformation, showing the double-edged nature of digital connectivity.\n",
    "\n",
    "Healthcare has also been transformed. Artificial intelligence now assists in early cancer detection with accuracy rates exceeding 90%, according to a 2020 study in Nature Medicine. Robotics enable precision surgeries, while telemedicine expanded rapidly during the COVID-19 pandemic, ensuring millions could access doctors remotely. The World Health Organization’s Global Strategy on Digital Health demonstrates how policy can support innovation while ensuring equitable access.\n",
    "\n",
    "Education is another field where technology is narrowing gaps. Platforms like Khan Academy and Coursera bring high-quality lessons to students in remote areas. During the pandemic, UNESCO reported that online learning helped 1.5 billion students continue their education when schools were closed. At the same time, the digital divide persists: nearly 2.7 billion people worldwide remain offline, highlighting inequality in access.\n",
    "\n",
    "However, technology carries risks. The World Economic Forum predicts that automation could displace 85 million jobs by 2025, particularly in manufacturing and logistics. Critics argue this will deepen inequality. Yet history shows new industries often emerge alongside disruption, from renewable energy to app development. Reskilling and lifelong learning are therefore essential to turn displacement into opportunity.\n",
    "\n",
    "Ethical concerns are equally urgent. Surveillance technologies, such as China’s widespread use of facial recognition, raise serious questions about privacy and freedom. In response, governments have introduced frameworks like the European Union’s General Data Protection Regulation (GDPR), which enforces strict rules on data use, and the United States’ AI Bill of Rights, which emphasizes fairness and accountability. These examples show how regulation can keep innovation aligned with human values.\n",
    "\n",
    "In conclusion, technology is both a promise and a responsibility. It can connect communities, cure diseases, and democratize knowledge, but it can also deepen inequality and threaten freedoms if left unchecked. The path forward lies in combining innovation with accountability: enforcing privacy laws, investing in digital literacy, and preparing workers for new industries. Ultimately, technology will not define humanity’s destiny—our wisdom in governing it will.\"\"\""
   ]
  },
  {
   "cell_type": "code",
   "execution_count": 47,
   "id": "90ea5480",
   "metadata": {},
   "outputs": [
    {
     "data": {
      "text/plain": [
       "{'essay': 'Technology is no longer just a tool; it has become the driving force of modern progress. It shapes how we live, work, and imagine the future. From communication and healthcare to education and governance, innovation expands possibilities. The central challenge is not whether technology will grow, but whether society can guide it responsibly.\\n\\nOne of the most visible impacts of technology is communication. The internet has turned the world into what Marshall McLuhan described as a “global village.” Platforms like WhatsApp and X (formerly Twitter) enable instant information exchange. For example, during the 2023 Turkey–Syria earthquake, real-time updates on social media helped direct rescue operations and mobilize aid within hours. Yet, the same speed that spreads life-saving information also fuels misinformation, showing the double-edged nature of digital connectivity.\\n\\nHealthcare has also been transformed. Artificial intelligence now assists in early cancer detection with accuracy rates exceeding 90%, according to a 2020 study in Nature Medicine. Robotics enable precision surgeries, while telemedicine expanded rapidly during the COVID-19 pandemic, ensuring millions could access doctors remotely. The World Health Organization’s Global Strategy on Digital Health demonstrates how policy can support innovation while ensuring equitable access.\\n\\nEducation is another field where technology is narrowing gaps. Platforms like Khan Academy and Coursera bring high-quality lessons to students in remote areas. During the pandemic, UNESCO reported that online learning helped 1.5 billion students continue their education when schools were closed. At the same time, the digital divide persists: nearly 2.7 billion people worldwide remain offline, highlighting inequality in access.\\n\\nHowever, technology carries risks. The World Economic Forum predicts that automation could displace 85 million jobs by 2025, particularly in manufacturing and logistics. Critics argue this will deepen inequality. Yet history shows new industries often emerge alongside disruption, from renewable energy to app development. Reskilling and lifelong learning are therefore essential to turn displacement into opportunity.\\n\\nEthical concerns are equally urgent. Surveillance technologies, such as China’s widespread use of facial recognition, raise serious questions about privacy and freedom. In response, governments have introduced frameworks like the European Union’s General Data Protection Regulation (GDPR), which enforces strict rules on data use, and the United States’ AI Bill of Rights, which emphasizes fairness and accountability. These examples show how regulation can keep innovation aligned with human values.\\n\\nIn conclusion, technology is both a promise and a responsibility. It can connect communities, cure diseases, and democratize knowledge, but it can also deepen inequality and threaten freedoms if left unchecked. The path forward lies in combining innovation with accountability: enforcing privacy laws, investing in digital literacy, and preparing workers for new industries. Ultimately, technology will not define humanity’s destiny—our wisdom in governing it will.',\n",
       " 'language_feedback': \"The essay presents a compelling and nuanced view of technology's impact on various aspects of modern life. The language is clear, engaging, and well-structured, with each paragraph logically leading to the next. The use of examples, such as the Turkey-Syria earthquake and the benefits of AI in healthcare, effectively illustrates the points made. Additionally, it acknowledges both the positive and negative aspects of technology, showing a balanced perspective.\\n\\nHowever, the essay could benefit from a few improvements. Firstly, some sentences are quite complex; breaking them down could enhance readability. Secondly, while the introduction sets the stage well, it might be strengthened by stating a more specific thesis to guide the argument. The conclusion effectively summarizes the main ideas but could reiterate the importance of active societal engagement in managing technology more explicitly. \\n\\nOverall, the essay is strong in content and language quality but could use minor adjustments for clarity and emphasis.\",\n",
       " 'analysis_feedback': \"The essay effectively explores the multifaceted role of technology in contemporary society, offering insights into its impacts across various sectors such as communication, healthcare, and education. The use of current examples, like the social media response to the Turkey-Syria earthquake and the implications of AI in healthcare, provides a solid foundation for the analysis. Furthermore, the essay addresses the dual nature of technology, discussing both its benefits and potential risks, which adds depth to the analysis. However, while the essay presents a well-rounded view, it could benefit from a deeper exploration of the ethical implications and perhaps a more nuanced discussion of potential solutions to the digital divide and job displacement rather than a brief mention. Additionally, the transitions between paragraphs could be smoother to enhance the overall coherence of the argument. Overall, this makes for an insightful essay that captures the essence of technology's role in shaping modern society but could be strengthened with deeper engagement with the complexities involved.\",\n",
       " 'clarity_feedback': 'The essay presents a coherent argument about the transformative role of technology in society, effectively covering communication, healthcare, education, employment, and ethical concerns. The examples provided are timely and relevant, illustrating both the benefits and the drawbacks of technological advancements. The structure is clear, with a logical flow from one point to the next, and the conclusion ties the discussion back to the central theme of responsible governance of technology.\\n\\nHowever, while the essay is overall clear in its arguments, there are areas that could benefit from additional depth or clarity. For example, while it mentions the digital divide, it would be strong to include discussion about potential solutions or ongoing efforts to address it. The transition between discussing the benefits of technology and the risks could be smoother to enhance flow. Additionally, some sentences are dense and could be simplified for greater clarity.\\n\\nOverall, the essay effectively communicates the complex relationship between society and technology, while also emphasizing the need for responsible governance. It could improve slightly by being a bit more concise in some areas and expanding on certain solutions or outcomes related to the issues discussed.',\n",
       " 'overall_feedback': \"**Summarized Feedback:**\\n\\nThe essay offers a compelling and nuanced perspective on the impact of technology on modern life, effectively exploring its role in communication, healthcare, education, and employment. It is well-structured, with clear and engaging language, supported by relevant examples such as the Turkey-Syria earthquake and AI advancements in healthcare. The acknowledgment of both the benefits and potential risks of technology presents a balanced viewpoint.\\n\\nHowever, there are areas for improvement. Some sentences are complex and could be simplified for better readability. The introduction could benefit from a more specific thesis statement to guide the argument, while the conclusion should more explicitly emphasize the importance of societal engagement in managing technology. Additionally, the essay would be stronger with a deeper exploration of ethical implications and potential solutions to issues like the digital divide and job displacement. Enhancing the transitions between paragraphs would also improve the overall coherence of the argument.\\n\\nIn summary, while the essay conveys a clear understanding of the complexities of technology's role in society, it would benefit from increased clarity and depth in certain areas, as well as smoother transitions between points.\",\n",
       " 'individual_scores': [8, 8, 8],\n",
       " 'avg_score': 8.0}"
      ]
     },
     "execution_count": 47,
     "metadata": {},
     "output_type": "execute_result"
    }
   ],
   "source": [
    "initial_state={\n",
    "    'essay':essay5\n",
    "}\n",
    "workflow.invoke(initial_state)"
   ]
  },
  {
   "cell_type": "code",
   "execution_count": 48,
   "id": "0f99a860",
   "metadata": {},
   "outputs": [],
   "source": [
    "poor_essay=\"\"\"Technology is very important and people use it every day. It is in phone, computer, internet and so many things. Technology is good but also bad sometimes. People like it because it makes life easy but also it makes people lazy.\n",
    "\n",
    "Technology help in communication. We can talk with people far away by mobile or internet. This is good but also people spend too much time on phone and not outside. Technology also help in health because doctors use machine and computers. But sometimes machine also fail so it is not always good.\n",
    "\n",
    "Technology is also problem for jobs. Many people lose job because machine do work fast and cheap. This make people sad. Also student use internet too much and they not study well. It is making problem in society.\n",
    "\n",
    "In conclusion, technology is good and bad. It help people but also create problem. We should use technology carefully. If use too much then it is bad but if no use then it is not good also.\"\"\""
   ]
  },
  {
   "cell_type": "code",
   "execution_count": 49,
   "id": "43267613",
   "metadata": {},
   "outputs": [
    {
     "data": {
      "text/plain": [
       "{'essay': 'Technology is very important and people use it every day. It is in phone, computer, internet and so many things. Technology is good but also bad sometimes. People like it because it makes life easy but also it makes people lazy.\\n\\nTechnology help in communication. We can talk with people far away by mobile or internet. This is good but also people spend too much time on phone and not outside. Technology also help in health because doctors use machine and computers. But sometimes machine also fail so it is not always good.\\n\\nTechnology is also problem for jobs. Many people lose job because machine do work fast and cheap. This make people sad. Also student use internet too much and they not study well. It is making problem in society.\\n\\nIn conclusion, technology is good and bad. It help people but also create problem. We should use technology carefully. If use too much then it is bad but if no use then it is not good also.',\n",
       " 'language_feedback': 'The essay presents a clear argument about the dual nature of technology, discussing both its benefits and drawbacks. However, the language quality requires improvement in several areas:\\n\\n1. **Grammar and Syntax**: There are several instances of incorrect verb forms and missing articles, such as \"Technology help\" should be \"Technology helps\". Also, phrases like \"this make people sad\" need the correct subject-verb agreement, which should be \"this makes people sad\". Translating thoughts directly into English can lead to awkward sentence structures, affecting clarity.\\n\\n2. **Word Choice**: Some words are overly simple or informal, such as using \"good but also bad\"; it would be more articulate to state \"has both positive and negative aspects\". Additionally, variations in language could enhance the essay. For example, instead of repeatedly saying \"technology,\" alternative phrases or synonyms could be used.\\n\\n3. **Cohesion and Coherence**: The essay lacks smooth transitions between ideas. For instance, the transition from discussing communication to health feels abrupt. Including transitional phrases would improve the flow of the essay.\\n\\n4. **Complexity**: The essay would benefit from attempting more complex sentence structures to articulate thoughts more fluidly. Engaging with more complex ideas, such as ethical aspects of technology, could enrich the discussion.\\n\\n5. **Depth of Argument**: While the essay addresses important points, it remains somewhat superficial. Providing specific examples or elaborating on key ideas (like the impact of technology on jobs or education) could strengthen the argument.\\n\\nIn summary, the essay covers the topic adequately but must improve in grammatical accuracy, vocabulary diversity, coherence, and depth. There is potential for a stronger argument and a more polished expression of ideas.',\n",
       " 'analysis_feedback': 'The essay presents a basic overview of the impact of technology on society, touching on communication, healthcare, employment, and education. However, the depth of analysis is quite limited. The points made are general and lack supporting details, examples, or evidence that would strengthen the arguments. Furthermore, the writing contains grammatical and structural issues that detract from its clarity. The essay would benefit from more specific examples illustrating how technology aids or hinders different aspects of life, as well as a more nuanced discussion of both positive and negative consequences. Overall, while the essay addresses a relevant topic, it requires more depth, structure, and cohesion to effectively communicate its ideas.',\n",
       " 'clarity_feedback': \"The essay presents a clear dichotomy regarding technology, highlighting both its advantages and disadvantages. However, the thought process lacks depth and precision. The initial statements about technology being 'good but also bad' are overly simplistic and could benefit from more nuanced reasoning. Each paragraph introduces concepts that are relevant but are not fully explored; for instance, while the advantages of communication and healthcare technologies are mentioned, specific examples or data could greatly enhance the discussion. Additionally, there are issues with grammar and sentence structure that detract from clarity. Phrases like 'technology help' should be corrected to 'technology helps' for grammatical accuracy. The conclusion reiterates the main points, but reinforces a vague perspective instead of offering a definitive stance or solution. Overall, the essay needs more detailed exploration and clearer articulation of ideas to effectively convey the writer's thoughts.\",\n",
       " 'overall_feedback': 'The essay effectively outlines the dual nature of technology, addressing both its advantages and disadvantages. However, it requires significant improvements in various aspects:\\n\\n1. **Grammar and Syntax**: There are multiple grammatical errors, including incorrect verb forms and missing articles, which hinder clarity. Phrases should be corrected for subject-verb agreement (e.g., \"Technology helps\" instead of \"Technology help\"), and direct translations from another language can lead to awkward constructions.\\n\\n2. **Word Choice**: The vocabulary used is often simplistic and informal. The essay could benefit from more precise language and varied expressions to articulate complex ideas (e.g., replacing \"good but also bad\" with \"has both positive and negative aspects\").\\n\\n3. **Cohesion and Coherence**: Transitions between ideas are abrupt, making the flow of the essay choppy. Incorporating transitional phrases would enhance connectivity and readability.\\n\\n4. **Depth of Argument**: Although the essay touches on relevant topics like communication and healthcare, it lacks supporting details and specific examples that would strengthen the argument. A deeper exploration of the socio-economic impacts of technology is needed.\\n\\n5. **Clarity of Thought**: The argument is somewhat simplistic and lacks nuance. Introducing more detailed analysis and contextual examples would clarify the discussion. While the conclusion summarizes key points, it fails to provide a definitive stance or solution.\\n\\nIn conclusion, while the essay addresses an important topic, it needs to improve in grammatical accuracy, vocabulary richness, coherence, and analytical depth to effectively communicate the writer\\'s ideas. With these enhancements, it has the potential to become a stronger and more polished piece.',\n",
       " 'individual_scores': [4, 4, 5],\n",
       " 'avg_score': 4.333333333333333}"
      ]
     },
     "execution_count": 49,
     "metadata": {},
     "output_type": "execute_result"
    }
   ],
   "source": [
    "initial_state={\n",
    "    'essay':poor_essay\n",
    "}\n",
    "workflow.invoke(initial_state)"
   ]
  },
  {
   "cell_type": "code",
   "execution_count": null,
   "id": "87bb33fb",
   "metadata": {},
   "outputs": [],
   "source": []
  }
 ],
 "metadata": {
  "kernelspec": {
   "display_name": "myenv",
   "language": "python",
   "name": "python3"
  },
  "language_info": {
   "codemirror_mode": {
    "name": "ipython",
    "version": 3
   },
   "file_extension": ".py",
   "mimetype": "text/x-python",
   "name": "python",
   "nbconvert_exporter": "python",
   "pygments_lexer": "ipython3",
   "version": "3.13.5"
  }
 },
 "nbformat": 4,
 "nbformat_minor": 5
}
