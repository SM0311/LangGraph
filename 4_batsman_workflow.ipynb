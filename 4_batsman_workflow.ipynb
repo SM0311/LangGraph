{
 "cells": [
  {
   "cell_type": "code",
   "execution_count": 1,
   "id": "d2df1c33",
   "metadata": {},
   "outputs": [],
   "source": [
    "from langgraph.graph import StateGraph, START, END\n",
    "from typing import TypedDict, Annotated, List\n",
    "import operator"
   ]
  },
  {
   "cell_type": "code",
   "execution_count": 2,
   "id": "e3c43605",
   "metadata": {},
   "outputs": [],
   "source": [
    "class BatsmanState(TypedDict):\n",
    "\n",
    "    runs:int\n",
    "    balls:int\n",
    "    fours:int\n",
    "    sixes:int\n",
    "\n",
    "    sr: Annotated[List[float], operator.add]  # reducer for parallel updates\n",
    "    bpb: Annotated[List[float], operator.add]\n",
    "    boundry_percent: Annotated[List[float], operator.add]\n",
    "    summary: str"
   ]
  },
  {
   "cell_type": "code",
   "execution_count": 3,
   "id": "2e83fda1",
   "metadata": {},
   "outputs": [],
   "source": [
    "def calculate_sr(state: BatsmanState):\n",
    "    sr = (state['runs'] / state['balls']) / 100\n",
    "    return {'sr': [sr]}"
   ]
  },
  {
   "cell_type": "code",
   "execution_count": 4,
   "id": "2cd1ac77",
   "metadata": {},
   "outputs": [],
   "source": [
    "def calculate_bpb(state:BatsmanState):\n",
    "\n",
    "    bpb=(state['balls']/(state['fours']+state['sixes']))/100\n",
    "\n",
    "    return {'bpb':[bpb]}"
   ]
  },
  {
   "cell_type": "code",
   "execution_count": 5,
   "id": "19dfef04",
   "metadata": {},
   "outputs": [],
   "source": [
    "def calculate_boundry_percent(state:BatsmanState):\n",
    "\n",
    "    boundry_percent=(((state['fours']*4)+(state['sixes']*6))/state['runs'])*100\n",
    "\n",
    "    return {'boundry_percent':[boundry_percent]}"
   ]
  },
  {
   "cell_type": "code",
   "execution_count": 6,
   "id": "58751f1f",
   "metadata": {},
   "outputs": [],
   "source": [
    "def summary(state:BatsmanState):\n",
    "    \n",
    "    summary = f\"\"\"\n",
    "    Strike Rate - {state['sr']} \\n\n",
    "    Balls per boundry - {state['bpb']} \\n\n",
    "    Boundry Percent - {state['boundry_percent']}\n",
    "    \"\"\"\n",
    "    state['summary'] = summary\n",
    "\n",
    "    return state"
   ]
  },
  {
   "cell_type": "code",
   "execution_count": 7,
   "id": "edefa5f4",
   "metadata": {},
   "outputs": [
    {
     "data": {
      "image/png": "[encoded data removed]",
      "text/plain": [
       "<langgraph.graph.state.CompiledStateGraph object at 0x0000022E86D27620>"
      ]
     },
     "execution_count": 7,
     "metadata": {},
     "output_type": "execute_result"
    }
   ],
   "source": [
    "graph=StateGraph(BatsmanState)\n",
    "\n",
    "#nodes\n",
    "graph.add_node('calculate_sr',calculate_sr)\n",
    "graph.add_node('calculate_bpb',calculate_bpb)\n",
    "graph.add_node('calculate_boundry_percent',calculate_boundry_percent)\n",
    "graph.add_node('summary',summary)\n",
    "\n",
    "#edges\n",
    "graph.add_edge(START, 'calculate_sr')\n",
    "graph.add_edge(START, 'calculate_bpb')\n",
    "graph.add_edge(START, 'calculate_boundry_percent')\n",
    "graph.add_edge('calculate_sr', 'summary')\n",
    "graph.add_edge('calculate_bpb', 'summary')\n",
    "graph.add_edge('calculate_boundry_percent', 'summary')\n",
    "graph.add_edge('summary', END)\n",
    "\n",
    "graph.compile()"
   ]
  },
  {
   "cell_type": "code",
   "execution_count": 8,
   "id": "1ae28e96",
   "metadata": {},
   "outputs": [],
   "source": [
    "workflow=graph.compile()"
   ]
  },
  {
   "cell_type": "code",
   "execution_count": 9,
   "id": "b95b53c8",
   "metadata": {},
   "outputs": [
    {
     "data": {
      "text/plain": [
       "{'runs': 100,\n",
       " 'balls': 50,\n",
       " 'fours': 6,\n",
       " 'sixes': 4,\n",
       " 'sr': [0.02, 0.02],\n",
       " 'bpb': [0.05, 0.05],\n",
       " 'boundry_percent': [48.0, 48.0],\n",
       " 'summary': '\\n    Strike Rate - [0.02] \\n\\n    Balls per boundry - [0.05] \\n\\n    Boundry Percent - [48.0]\\n    '}"
      ]
     },
     "execution_count": 9,
     "metadata": {},
     "output_type": "execute_result"
    }
   ],
   "source": [
    "initial_state = {\n",
    "    'runs':100,\n",
    "    'balls':50,\n",
    "    'fours':6,\n",
    "    'sixes':4\n",
    "}\n",
    "\n",
    "workflow.invoke(initial_state)"
   ]
  },
  {
   "cell_type": "code",
   "execution_count": null,
   "id": "24e21b9c",
   "metadata": {},
   "outputs": [],
   "source": []
  }
 ],
 "metadata": {
  "kernelspec": {
   "display_name": "myenv",
   "language": "python",
   "name": "python3"
  },
  "language_info": {
   "codemirror_mode": {
    "name": "ipython",
    "version": 3
   },
   "file_extension": ".py",
   "mimetype": "text/x-python",
   "name": "python",
   "nbconvert_exporter": "python",
   "pygments_lexer": "ipython3",
   "version": "3.13.5"
  }
 },
 "nbformat": 4,
 "nbformat_minor": 5
}
